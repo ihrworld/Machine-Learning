{
 "cells": [
  {
   "cell_type": "markdown",
   "metadata": {},
   "source": [
    "#  Artists in the Billboard\n",
    "\n",
    "# Classification Algorithm - Decession Trees"
   ]
  },
  {
   "cell_type": "markdown",
   "metadata": {},
   "source": [
    "## 1 Introduction "
   ]
  },
  {
   "cell_type": "markdown",
   "metadata": {},
   "source": [
    "In this document we will review the performance of the Decession Tree Classifier analying a data set composed of information about singers and bands that achieved a number one spot on the Billboard Hot 100 charts. Our goal is to build a good Machine Learning model, which has to predict predict who will be the next \"top singer/band\".\n",
    "\n",
    "The dataset that we will use for our analysis is called \"artists_billboard.csv\". You can find it in the Files folder of this repository.  "
   ]
  },
  {
   "cell_type": "markdown",
   "metadata": {},
   "source": [
    "## 2 Import the necessary libraries "
   ]
  },
  {
   "cell_type": "code",
   "execution_count": 1,
   "metadata": {},
   "outputs": [],
   "source": [
    "import numpy as np\n",
    "import pandas as pd\n",
    "import seaborn as sb\n",
    "import matplotlib.pyplot as plt\n",
    "%matplotlib inline\n",
    "plt.rcParams['figure.figsize'] = (16, 9)\n",
    "plt.style.use('ggplot')\n",
    "from sklearn import tree\n",
    "from sklearn.metrics import accuracy_score\n",
    "from sklearn.model_selection import KFold\n",
    "from sklearn.model_selection import cross_val_score\n",
    "from IPython.display import Image as PImage\n",
    "from subprocess import check_call\n",
    "from PIL import Image, ImageDraw, ImageFont\n",
    "from IPython.core.display import Image\n",
    "from sklearn.tree import export_graphviz"
   ]
  },
  {
   "cell_type": "markdown",
   "metadata": {},
   "source": [
    "## 3 Explore the data "
   ]
  },
  {
   "cell_type": "code",
   "execution_count": 8,
   "metadata": {},
   "outputs": [
    {
     "data": {
      "text/html": [
       "<div>\n",
       "<style scoped>\n",
       "    .dataframe tbody tr th:only-of-type {\n",
       "        vertical-align: middle;\n",
       "    }\n",
       "\n",
       "    .dataframe tbody tr th {\n",
       "        vertical-align: top;\n",
       "    }\n",
       "\n",
       "    .dataframe thead th {\n",
       "        text-align: right;\n",
       "    }\n",
       "</style>\n",
       "<table border=\"1\" class=\"dataframe\">\n",
       "  <thead>\n",
       "    <tr style=\"text-align: right;\">\n",
       "      <th></th>\n",
       "      <th>id</th>\n",
       "      <th>title</th>\n",
       "      <th>artist</th>\n",
       "      <th>mood</th>\n",
       "      <th>tempo</th>\n",
       "      <th>genre</th>\n",
       "      <th>artist_type</th>\n",
       "      <th>chart_date</th>\n",
       "      <th>durationSeg</th>\n",
       "      <th>top</th>\n",
       "      <th>anioNacimiento</th>\n",
       "    </tr>\n",
       "  </thead>\n",
       "  <tbody>\n",
       "    <tr>\n",
       "      <th>0</th>\n",
       "      <td>0</td>\n",
       "      <td>Small Town Throwdown</td>\n",
       "      <td>BRANTLEY GILBERT featuring JUSTIN MOORE &amp; THOM...</td>\n",
       "      <td>Brooding</td>\n",
       "      <td>Medium Tempo</td>\n",
       "      <td>Traditional</td>\n",
       "      <td>Male</td>\n",
       "      <td>20140628</td>\n",
       "      <td>191.0</td>\n",
       "      <td>0</td>\n",
       "      <td>1975.0</td>\n",
       "    </tr>\n",
       "    <tr>\n",
       "      <th>1</th>\n",
       "      <td>1</td>\n",
       "      <td>Bang Bang</td>\n",
       "      <td>JESSIE J, ARIANA GRANDE &amp; NICKI MINAJ</td>\n",
       "      <td>Energizing</td>\n",
       "      <td>Medium Tempo</td>\n",
       "      <td>Pop</td>\n",
       "      <td>Female</td>\n",
       "      <td>20140816</td>\n",
       "      <td>368.0</td>\n",
       "      <td>0</td>\n",
       "      <td>1989.0</td>\n",
       "    </tr>\n",
       "    <tr>\n",
       "      <th>2</th>\n",
       "      <td>2</td>\n",
       "      <td>Timber</td>\n",
       "      <td>PITBULL featuring KE$HA</td>\n",
       "      <td>Excited</td>\n",
       "      <td>Medium Tempo</td>\n",
       "      <td>Urban</td>\n",
       "      <td>Mixed</td>\n",
       "      <td>20140118</td>\n",
       "      <td>223.0</td>\n",
       "      <td>1</td>\n",
       "      <td>1993.0</td>\n",
       "    </tr>\n",
       "    <tr>\n",
       "      <th>3</th>\n",
       "      <td>3</td>\n",
       "      <td>Sweater Weather</td>\n",
       "      <td>THE NEIGHBOURHOOD</td>\n",
       "      <td>Brooding</td>\n",
       "      <td>Medium Tempo</td>\n",
       "      <td>Alternative &amp; Punk</td>\n",
       "      <td>Male</td>\n",
       "      <td>20140104</td>\n",
       "      <td>206.0</td>\n",
       "      <td>0</td>\n",
       "      <td>1989.0</td>\n",
       "    </tr>\n",
       "    <tr>\n",
       "      <th>4</th>\n",
       "      <td>4</td>\n",
       "      <td>Automatic</td>\n",
       "      <td>MIRANDA LAMBERT</td>\n",
       "      <td>Yearning</td>\n",
       "      <td>Medium Tempo</td>\n",
       "      <td>Traditional</td>\n",
       "      <td>Female</td>\n",
       "      <td>20140301</td>\n",
       "      <td>232.0</td>\n",
       "      <td>0</td>\n",
       "      <td>0.0</td>\n",
       "    </tr>\n",
       "  </tbody>\n",
       "</table>\n",
       "</div>"
      ],
      "text/plain": [
       "   id                 title  \\\n",
       "0   0  Small Town Throwdown   \n",
       "1   1             Bang Bang   \n",
       "2   2                Timber   \n",
       "3   3       Sweater Weather   \n",
       "4   4             Automatic   \n",
       "\n",
       "                                              artist        mood  \\\n",
       "0  BRANTLEY GILBERT featuring JUSTIN MOORE & THOM...    Brooding   \n",
       "1              JESSIE J, ARIANA GRANDE & NICKI MINAJ  Energizing   \n",
       "2                            PITBULL featuring KE$HA     Excited   \n",
       "3                                  THE NEIGHBOURHOOD    Brooding   \n",
       "4                                    MIRANDA LAMBERT    Yearning   \n",
       "\n",
       "          tempo               genre artist_type  chart_date  durationSeg  top  \\\n",
       "0  Medium Tempo         Traditional        Male    20140628        191.0    0   \n",
       "1  Medium Tempo                 Pop      Female    20140816        368.0    0   \n",
       "2  Medium Tempo               Urban       Mixed    20140118        223.0    1   \n",
       "3  Medium Tempo  Alternative & Punk        Male    20140104        206.0    0   \n",
       "4  Medium Tempo         Traditional      Female    20140301        232.0    0   \n",
       "\n",
       "   anioNacimiento  \n",
       "0          1975.0  \n",
       "1          1989.0  \n",
       "2          1993.0  \n",
       "3          1989.0  \n",
       "4             0.0  "
      ]
     },
     "execution_count": 8,
     "metadata": {},
     "output_type": "execute_result"
    }
   ],
   "source": [
    "#Load the data set\n",
    "df = pd.read_csv('artists_billboard.csv', sep=',')\n",
    "df.head()"
   ]
  },
  {
   "cell_type": "code",
   "execution_count": 5,
   "metadata": {},
   "outputs": [
    {
     "data": {
      "text/plain": [
       "(635, 11)"
      ]
     },
     "execution_count": 5,
     "metadata": {},
     "output_type": "execute_result"
    }
   ],
   "source": [
    "df.shape"
   ]
  },
  {
   "cell_type": "markdown",
   "metadata": {},
   "source": [
    "The data set has a total of 635 records (lines) and 11 features (columns)."
   ]
  },
  {
   "cell_type": "markdown",
   "metadata": {},
   "source": [
    "## 4  Data Visualization "
   ]
  },
  {
   "cell_type": "markdown",
   "metadata": {},
   "source": [
    "Before displaying the data, let's group the records to see how many artists have achieved the position 1 and not:"
   ]
  },
  {
   "cell_type": "code",
   "execution_count": 9,
   "metadata": {},
   "outputs": [
    {
     "data": {
      "text/plain": [
       "top\n",
       "0    494\n",
       "1    141\n",
       "dtype: int64"
      ]
     },
     "execution_count": 9,
     "metadata": {},
     "output_type": "execute_result"
    }
   ],
   "source": [
    "#grouping the records under TOP column\n",
    "df.groupby('top').size()"
   ]
  },
  {
   "cell_type": "code",
   "execution_count": 15,
   "metadata": {},
   "outputs": [
    {
     "data": {
      "text/plain": [
       "<seaborn.axisgrid.FacetGrid at 0x1bae0be3fd0>"
      ]
     },
     "execution_count": 15,
     "metadata": {},
     "output_type": "execute_result"
    },
    {
     "data": {
      "image/png": "[encoded data removed]",
      "text/plain": [
       "<Figure size 360x360 with 1 Axes>"
      ]
     },
     "metadata": {
      "needs_background": "light"
     },
     "output_type": "display_data"
    }
   ],
   "source": [
    "#visualization of the TOP data\n",
    "sb.factorplot('top',data=df,kind=\"count\", aspect=1)"
   ]
  },
  {
   "cell_type": "markdown",
   "metadata": {},
   "source": [
    "Comments => We can see that there are a total of 494 songs that did not reach the top, while a total of 141 songs could reach the top 1. Therefore, we have a UNBALANCED number of labels with 1 and 0. So, we will take this into account when creating the tree.\n",
    "\n",
    "Now, let's check how many records of \"artist type\", \"mood\", \"time\" and \"genre\" there are in the data set. "
   ]
  },
  {
   "cell_type": "code",
   "execution_count": 16,
   "metadata": {},
   "outputs": [
    {
     "data": {
      "text/plain": [
       "<seaborn.axisgrid.FacetGrid at 0x1bae0c49f28>"
      ]
     },
     "execution_count": 16,
     "metadata": {},
     "output_type": "execute_result"
    },
    {
     "data": {
      "image/png": "[encoded data removed]",
      "text/plain": [
       "<Figure size 360x360 with 1 Axes>"
      ]
     },
     "metadata": {
      "needs_background": "light"
     },
     "output_type": "display_data"
    }
   ],
   "source": [
    "#visualization of the Artist_type data\n",
    "sb.factorplot('artist_type',data=df,kind=\"count\", aspect=1)"
   ]
  },
  {
   "cell_type": "markdown",
   "metadata": {},
   "source": [
    "Comments => We can see that more than the double of artists are male, while only 150 artists are female. In addition, 100 records are related to mixed songs."
   ]
  },
  {
   "cell_type": "code",
   "execution_count": 21,
   "metadata": {},
   "outputs": [
    {
     "data": {
      "text/plain": [
       "<seaborn.axisgrid.FacetGrid at 0x1bae0d786a0>"
      ]
     },
     "execution_count": 21,
     "metadata": {},
     "output_type": "execute_result"
    },
    {
     "data": {
      "image/png": "[encoded data removed]",
      "text/plain": [
       "<Figure size 1440x360 with 1 Axes>"
      ]
     },
     "metadata": {
      "needs_background": "light"
     },
     "output_type": "display_data"
    }
   ],
   "source": [
    "#visualization of the Mood data\n",
    "sb.factorplot('mood',data=df,kind=\"count\", aspect = 4)"
   ]
  },
  {
   "cell_type": "markdown",
   "metadata": {},
   "source": [
    "Comments => We can see that of 23 types of Mood, 7 stand out with high peaks. We also noticed that some moods are similar."
   ]
  },
  {
   "cell_type": "code",
   "execution_count": 23,
   "metadata": {},
   "outputs": [
    {
     "data": {
      "text/plain": [
       "<seaborn.axisgrid.FacetGrid at 0x1bae25206a0>"
      ]
     },
     "execution_count": 23,
     "metadata": {},
     "output_type": "execute_result"
    },
    {
     "data": {
      "image/png": "[encoded data removed]",
      "text/plain": [
       "<Figure size 402.375x360 with 1 Axes>"
      ]
     },
     "metadata": {
      "needs_background": "light"
     },
     "output_type": "display_data"
    }
   ],
   "source": [
    "#visualization of the Time data\n",
    "sb.factorplot('tempo', data=df, hue='top', kind=\"count\")"
   ]
  },
  {
   "cell_type": "markdown",
   "metadata": {},
   "source": [
    "Comments => We see that there are 3 types of time (Medium, Slow and Fast). The Medium times predominate and it is also where we find more songs that have reached the Top 1 (in blue)."
   ]
  },
  {
   "cell_type": "code",
   "execution_count": 24,
   "metadata": {},
   "outputs": [
    {
     "data": {
      "text/plain": [
       "<seaborn.axisgrid.FacetGrid at 0x1bae2557eb8>"
      ]
     },
     "execution_count": 24,
     "metadata": {},
     "output_type": "execute_result"
    },
    {
     "data": {
      "image/png": "[encoded data removed]",
      "text/plain": [
       "<Figure size 1080x360 with 1 Axes>"
      ]
     },
     "metadata": {
      "needs_background": "light"
     },
     "output_type": "display_data"
    }
   ],
   "source": [
    "#visualization of the Genre\n",
    "sb.factorplot('genre',data=df,kind=\"count\", aspect=3)"
   ]
  },
  {
   "cell_type": "markdown",
   "metadata": {},
   "source": [
    "Comments => In the musical genres, Urban and Pop stand out, followed by Traditional and Alternative & Punk."
   ]
  },
  {
   "cell_type": "code",
   "execution_count": 25,
   "metadata": {},
   "outputs": [
    {
     "data": {
      "text/plain": [
       "<seaborn.axisgrid.FacetGrid at 0x1bae27e15f8>"
      ]
     },
     "execution_count": 25,
     "metadata": {},
     "output_type": "execute_result"
    },
    {
     "data": {
      "image/png": "[encoded data removed]",
      "text/plain": [
       "<Figure size 1080x360 with 1 Axes>"
      ]
     },
     "metadata": {
      "needs_background": "light"
     },
     "output_type": "display_data"
    }
   ],
   "source": [
    "#Visualization of the artist's \"Year of birth\"\n",
    "sb.factorplot('anioNacimiento',data=df,kind=\"count\", aspect=3)"
   ]
  },
  {
   "cell_type": "markdown",
   "metadata": {},
   "source": [
    "Comments => We can see that about 140 songs are allocated in the 0 year due to the fact that we do not know the year of birth of the artist. The rest of the years seem to concentrate between 1979 and 1994. Later we will take care of this records."
   ]
  },
  {
   "cell_type": "markdown",
   "metadata": {},
   "source": [
    "## 5 Data Processing "
   ]
  },
  {
   "cell_type": "markdown",
   "metadata": {},
   "source": [
    "### 5.1 Age_in_billboard Calculation"
   ]
  },
  {
   "cell_type": "markdown",
   "metadata": {},
   "source": [
    "The feature that we want to obtain is: «knowing the singer's year of birth, calculate how old he was at the time of appearing on the Billboard»\n",
    "\n",
    "For that, firstly, we need to solve the issue with the 0 records under the \"anioNacimiento\" column. For that, we will replace the 0 values for the None value (null value in python)."
   ]
  },
  {
   "cell_type": "code",
   "execution_count": 26,
   "metadata": {},
   "outputs": [],
   "source": [
    "#replace 0 values for None\n",
    "def age_fix(year):\n",
    "    if year==0:\n",
    "        return None\n",
    "    return year\n",
    "\n",
    "df['anioNacimiento']=df.apply(lambda x: age_fix(x['anioNacimiento']), axis=1);"
   ]
  },
  {
   "cell_type": "markdown",
   "metadata": {},
   "source": [
    "Then, we will calcute the ages in anew column called \"age_in_billboard\", subtracting the year of appearance (the first 4 characters of chart_date) to the year of birth. In the lines with None value, we will get a None age as result."
   ]
  },
  {
   "cell_type": "code",
   "execution_count": 27,
   "metadata": {},
   "outputs": [],
   "source": [
    "#calculate the \"age_in_billboard\" feature values\n",
    "def age_calculation(year,when):\n",
    "    cad = str(when)\n",
    "    moment = cad[:4]\n",
    "    if year==0.0:\n",
    "        return None\n",
    "    return int(when) - year\n",
    "\n",
    "df['age_in_billboard']=df.apply(lambda x: age_calculation(x['anioNacimiento'],x['chart_date']), axis=1);"
   ]
  },
  {
   "cell_type": "markdown",
   "metadata": {},
   "source": [
    "Finally, we will assign random ages to the missing records. For that, we will get the average age of our set (avg) and the standard deviation (std). Therefore, we will need the ages in None and we will request random values to the function ranging from avg - std to avg + std (ages between 21 to 37 years)."
   ]
  },
  {
   "cell_type": "code",
   "execution_count": 29,
   "metadata": {},
   "outputs": [
    {
     "name": "stdout",
     "output_type": "stream",
     "text": [
      "Average Age: 20125302.389112905\n",
      "Standard Deviation Age: 28711.734117256008\n",
      "Interval to assign random agea: 20096590 a 20154014\n"
     ]
    }
   ],
   "source": [
    "#calculate the mean and std of the values under \"age_in_billboard\" column\n",
    "age_avg = df['age_in_billboard'].mean()\n",
    "age_std = df['age_in_billboard'].std()\n",
    "age_null_count = df['age_in_billboard'].isnull().sum()\n",
    "age_null_random_list = np.random.randint(age_avg - age_std, age_avg + age_std, size=age_null_count)\n",
    " \n",
    "conNullValues = np.isnan(df['age_in_billboard'])\n",
    "\n",
    "df.loc[np.isnan(df['age_in_billboard']), 'age_in_billboard'] = age_null_random_list\n",
    "df['age_in_billboard'] = df['age_in_billboard'].astype(int)\n",
    "\n",
    "print(\"Average Age: \" + str(age_avg))\n",
    "print(\"Standard Deviation Age: \" + str(age_std))\n",
    "print(\"Interval to assign random agea: \" + str(int(age_avg - age_std)) + \" a \" + str(int(age_avg + age_std)))"
   ]
  },
  {
   "cell_type": "markdown",
   "metadata": {},
   "source": [
    "### 5.2 Data Mapping "
   ]
  },
  {
   "cell_type": "markdown",
   "metadata": {},
   "source": [
    "We will transform several of the input data into categorical values. The ages, we separate them into: under 21, between 21 and 26, etc. song durations too, e.g. between 150 and 180 seconds, etc. For moods I grouped those that were similar.\n",
    "\n",
    "Regarding the time, it will be mapped in the following way:0-Fast, 1-Slow, 2-Medium (by number of songs in each tempo: the Medium is the one that has the most)."
   ]
  },
  {
   "cell_type": "code",
   "execution_count": 30,
   "metadata": {},
   "outputs": [],
   "source": [
    "# Mood Mapping \n",
    "df['moodEncoded'] = df['mood'].map( {'Energizing': 6, \n",
    "                                        'Empowering': 6,\n",
    "                                        'Cool': 5, \n",
    "                                        'Yearning': 4, # anhelo, deseo, ansia\n",
    "                                        'Excited': 5, #emocionado\n",
    "                                        'Defiant': 3, \n",
    "                                        'Sensual': 2, \n",
    "                                        'Gritty': 3, #coraje \n",
    "                                        'Sophisticated': 4,\n",
    "                                        'Aggressive': 4, # provocativo\n",
    "                                        'Fiery': 4, #caracter fuerte\n",
    "                                        'Urgent': 3, \n",
    "                                        'Rowdy': 4, #ruidoso alboroto\n",
    "                                        'Sentimental': 4,\n",
    "                                        'Easygoing': 1, # sencillo\n",
    "                                        'Melancholy': 4, \n",
    "                                        'Romantic': 2, \n",
    "                                        'Peaceful': 1, \n",
    "                                        'Brooding': 4, # melancolico\n",
    "                                        'Upbeat': 5, #optimista alegre\n",
    "                                        'Stirring': 5, #emocionante\n",
    "                                        'Lively': 5, #animado\n",
    "                                        'Other': 0,'':0} ).astype(int)\n",
    "\n",
    "# Time Mapping \n",
    "df['tempoEncoded'] = df['tempo'].map( {'Fast Tempo': 0, 'Medium Tempo': 2, 'Slow Tempo': 1, '':0} ).astype(int)\n",
    "\n",
    "# Genre Mapping \n",
    "df['genreEncoded'] = df['genre'].map( {'Urban': 4, \n",
    "                                          'Pop': 3, \n",
    "                                          'Traditional': 2, \n",
    "                                          'Alternative & Punk': 1,\n",
    "                                         'Electronica': 1, \n",
    "                                          'Rock': 1, \n",
    "                                          'Soundtrack': 0, \n",
    "                                          'Jazz': 0,\n",
    "                                          'Other':0,'':0}).astype(int)\n",
    "                                       \n",
    "# artist_type Mapping \n",
    "df['artist_typeEncoded'] = df['artist_type'].map( {'Female': 2, 'Male': 3, 'Mixed': 1, '': 0} ).astype(int)"
   ]
  },
  {
   "cell_type": "code",
   "execution_count": 31,
   "metadata": {},
   "outputs": [],
   "source": [
    "# Mapping age when the artists reach the billboard\n",
    "df.loc[ df['age_in_billboard'] <= 21, 'edadEncoded']                         = 0\n",
    "df.loc[(df['age_in_billboard'] > 21) & (df['age_in_billboard'] <= 26), 'edadEncoded'] = 1\n",
    "df.loc[(df['age_in_billboard'] > 26) & (df['age_in_billboard'] <= 30), 'edadEncoded'] = 2\n",
    "df.loc[(df['age_in_billboard'] > 30) & (df['age_in_billboard'] <= 40), 'edadEncoded'] = 3\n",
    "df.loc[ df['age_in_billboard'] > 40, 'edadEncoded'] = 4\n",
    " \n",
    "# Mapping Song Duration\n",
    "df.loc[ df['durationSeg'] <= 150, 'durationEncoded']                          = 0\n",
    "df.loc[(df['durationSeg'] > 150) & (df['durationSeg'] <= 180), 'durationEncoded'] = 1\n",
    "df.loc[(df['durationSeg'] > 180) & (df['durationSeg'] <= 210), 'durationEncoded'] = 2\n",
    "df.loc[(df['durationSeg'] > 210) & (df['durationSeg'] <= 240), 'durationEncoded'] = 3\n",
    "df.loc[(df['durationSeg'] > 240) & (df['durationSeg'] <= 270), 'durationEncoded'] = 4\n",
    "df.loc[(df['durationSeg'] > 270) & (df['durationSeg'] <= 300), 'durationEncoded'] = 5\n",
    "df.loc[ df['durationSeg'] > 300, 'durationEncoded'] = 6"
   ]
  },
  {
   "cell_type": "markdown",
   "metadata": {},
   "source": [
    "Finally, we get a new set called artists_encoded, in which we have all the definitive attributes to build our tree. Therefore, we can remove all the features that we do not need in our analysis."
   ]
  },
  {
   "cell_type": "code",
   "execution_count": 32,
   "metadata": {},
   "outputs": [],
   "source": [
    "drop_elements = ['id','title','artist','mood','tempo','genre','artist_type','chart_date','anioNacimiento','durationSeg','age_in_billboard']\n",
    "artists_encoded = df.drop(drop_elements, axis = 1)"
   ]
  },
  {
   "cell_type": "code",
   "execution_count": 33,
   "metadata": {},
   "outputs": [
    {
     "data": {
      "text/html": [
       "<div>\n",
       "<style scoped>\n",
       "    .dataframe tbody tr th:only-of-type {\n",
       "        vertical-align: middle;\n",
       "    }\n",
       "\n",
       "    .dataframe tbody tr th {\n",
       "        vertical-align: top;\n",
       "    }\n",
       "\n",
       "    .dataframe thead th {\n",
       "        text-align: right;\n",
       "    }\n",
       "</style>\n",
       "<table border=\"1\" class=\"dataframe\">\n",
       "  <thead>\n",
       "    <tr style=\"text-align: right;\">\n",
       "      <th></th>\n",
       "      <th>top</th>\n",
       "      <th>moodEncoded</th>\n",
       "      <th>tempoEncoded</th>\n",
       "      <th>genreEncoded</th>\n",
       "      <th>artist_typeEncoded</th>\n",
       "      <th>edadEncoded</th>\n",
       "      <th>durationEncoded</th>\n",
       "    </tr>\n",
       "  </thead>\n",
       "  <tbody>\n",
       "    <tr>\n",
       "      <th>0</th>\n",
       "      <td>0</td>\n",
       "      <td>4</td>\n",
       "      <td>2</td>\n",
       "      <td>2</td>\n",
       "      <td>3</td>\n",
       "      <td>4.0</td>\n",
       "      <td>2.0</td>\n",
       "    </tr>\n",
       "    <tr>\n",
       "      <th>1</th>\n",
       "      <td>0</td>\n",
       "      <td>6</td>\n",
       "      <td>2</td>\n",
       "      <td>3</td>\n",
       "      <td>2</td>\n",
       "      <td>4.0</td>\n",
       "      <td>6.0</td>\n",
       "    </tr>\n",
       "    <tr>\n",
       "      <th>2</th>\n",
       "      <td>1</td>\n",
       "      <td>5</td>\n",
       "      <td>2</td>\n",
       "      <td>4</td>\n",
       "      <td>1</td>\n",
       "      <td>4.0</td>\n",
       "      <td>3.0</td>\n",
       "    </tr>\n",
       "    <tr>\n",
       "      <th>3</th>\n",
       "      <td>0</td>\n",
       "      <td>4</td>\n",
       "      <td>2</td>\n",
       "      <td>1</td>\n",
       "      <td>3</td>\n",
       "      <td>4.0</td>\n",
       "      <td>2.0</td>\n",
       "    </tr>\n",
       "    <tr>\n",
       "      <th>4</th>\n",
       "      <td>0</td>\n",
       "      <td>4</td>\n",
       "      <td>2</td>\n",
       "      <td>2</td>\n",
       "      <td>2</td>\n",
       "      <td>4.0</td>\n",
       "      <td>3.0</td>\n",
       "    </tr>\n",
       "  </tbody>\n",
       "</table>\n",
       "</div>"
      ],
      "text/plain": [
       "   top  moodEncoded  tempoEncoded  genreEncoded  artist_typeEncoded  \\\n",
       "0    0            4             2             2                   3   \n",
       "1    0            6             2             3                   2   \n",
       "2    1            5             2             4                   1   \n",
       "3    0            4             2             1                   3   \n",
       "4    0            4             2             2                   2   \n",
       "\n",
       "   edadEncoded  durationEncoded  \n",
       "0          4.0              2.0  \n",
       "1          4.0              6.0  \n",
       "2          4.0              3.0  \n",
       "3          4.0              2.0  \n",
       "4          4.0              3.0  "
      ]
     },
     "execution_count": 33,
     "metadata": {},
     "output_type": "execute_result"
    }
   ],
   "source": [
    "artists_encoded.head()"
   ]
  },
  {
   "cell_type": "code",
   "execution_count": 37,
   "metadata": {},
   "outputs": [
    {
     "data": {
      "text/plain": [
       "(635, 7)"
      ]
     },
     "execution_count": 37,
     "metadata": {},
     "output_type": "execute_result"
    }
   ],
   "source": [
    "artists_encoded.shape"
   ]
  },
  {
   "cell_type": "markdown",
   "metadata": {},
   "source": [
    "### 5.3 Data Mapping Display"
   ]
  },
  {
   "cell_type": "code",
   "execution_count": null,
   "metadata": {},
   "outputs": [],
   "source": [
    "#In the column sum we will find the top ones, since being value 0 or 1, only those that did reach number 1 will be added."
   ]
  },
  {
   "cell_type": "code",
   "execution_count": 34,
   "metadata": {},
   "outputs": [
    {
     "data": {
      "text/html": [
       "<div>\n",
       "<style scoped>\n",
       "    .dataframe tbody tr th:only-of-type {\n",
       "        vertical-align: middle;\n",
       "    }\n",
       "\n",
       "    .dataframe tbody tr th {\n",
       "        vertical-align: top;\n",
       "    }\n",
       "\n",
       "    .dataframe thead tr th {\n",
       "        text-align: left;\n",
       "    }\n",
       "\n",
       "    .dataframe thead tr:last-of-type th {\n",
       "        text-align: right;\n",
       "    }\n",
       "</style>\n",
       "<table border=\"1\" class=\"dataframe\">\n",
       "  <thead>\n",
       "    <tr>\n",
       "      <th></th>\n",
       "      <th colspan=\"3\" halign=\"left\">top</th>\n",
       "    </tr>\n",
       "    <tr>\n",
       "      <th></th>\n",
       "      <th>mean</th>\n",
       "      <th>count</th>\n",
       "      <th>sum</th>\n",
       "    </tr>\n",
       "    <tr>\n",
       "      <th>moodEncoded</th>\n",
       "      <th></th>\n",
       "      <th></th>\n",
       "      <th></th>\n",
       "    </tr>\n",
       "  </thead>\n",
       "  <tbody>\n",
       "    <tr>\n",
       "      <th>0</th>\n",
       "      <td>0.000000</td>\n",
       "      <td>1</td>\n",
       "      <td>0</td>\n",
       "    </tr>\n",
       "    <tr>\n",
       "      <th>1</th>\n",
       "      <td>0.000000</td>\n",
       "      <td>8</td>\n",
       "      <td>0</td>\n",
       "    </tr>\n",
       "    <tr>\n",
       "      <th>2</th>\n",
       "      <td>0.274194</td>\n",
       "      <td>62</td>\n",
       "      <td>17</td>\n",
       "    </tr>\n",
       "    <tr>\n",
       "      <th>3</th>\n",
       "      <td>0.145631</td>\n",
       "      <td>103</td>\n",
       "      <td>15</td>\n",
       "    </tr>\n",
       "    <tr>\n",
       "      <th>4</th>\n",
       "      <td>0.136986</td>\n",
       "      <td>146</td>\n",
       "      <td>20</td>\n",
       "    </tr>\n",
       "    <tr>\n",
       "      <th>5</th>\n",
       "      <td>0.294872</td>\n",
       "      <td>156</td>\n",
       "      <td>46</td>\n",
       "    </tr>\n",
       "    <tr>\n",
       "      <th>6</th>\n",
       "      <td>0.270440</td>\n",
       "      <td>159</td>\n",
       "      <td>43</td>\n",
       "    </tr>\n",
       "  </tbody>\n",
       "</table>\n",
       "</div>"
      ],
      "text/plain": [
       "                  top          \n",
       "                 mean count sum\n",
       "moodEncoded                    \n",
       "0            0.000000     1   0\n",
       "1            0.000000     8   0\n",
       "2            0.274194    62  17\n",
       "3            0.145631   103  15\n",
       "4            0.136986   146  20\n",
       "5            0.294872   156  46\n",
       "6            0.270440   159  43"
      ]
     },
     "execution_count": 34,
     "metadata": {},
     "output_type": "execute_result"
    }
   ],
   "source": [
    "#Check how the top=1 are splitted along the moodEncoded feature\n",
    "artists_encoded[['moodEncoded', 'top']].groupby(['moodEncoded'], as_index=False).agg(['mean', 'count', 'sum'])"
   ]
  },
  {
   "cell_type": "markdown",
   "metadata": {},
   "source": [
    "Comments => We see most of the top 1 in moods 5 and 6 with 46 and 43 songs"
   ]
  },
  {
   "cell_type": "code",
   "execution_count": 35,
   "metadata": {},
   "outputs": [
    {
     "data": {
      "text/html": [
       "<div>\n",
       "<style scoped>\n",
       "    .dataframe tbody tr th:only-of-type {\n",
       "        vertical-align: middle;\n",
       "    }\n",
       "\n",
       "    .dataframe tbody tr th {\n",
       "        vertical-align: top;\n",
       "    }\n",
       "\n",
       "    .dataframe thead tr th {\n",
       "        text-align: left;\n",
       "    }\n",
       "\n",
       "    .dataframe thead tr:last-of-type th {\n",
       "        text-align: right;\n",
       "    }\n",
       "</style>\n",
       "<table border=\"1\" class=\"dataframe\">\n",
       "  <thead>\n",
       "    <tr>\n",
       "      <th></th>\n",
       "      <th colspan=\"3\" halign=\"left\">top</th>\n",
       "    </tr>\n",
       "    <tr>\n",
       "      <th></th>\n",
       "      <th>mean</th>\n",
       "      <th>count</th>\n",
       "      <th>sum</th>\n",
       "    </tr>\n",
       "    <tr>\n",
       "      <th>artist_typeEncoded</th>\n",
       "      <th></th>\n",
       "      <th></th>\n",
       "      <th></th>\n",
       "    </tr>\n",
       "  </thead>\n",
       "  <tbody>\n",
       "    <tr>\n",
       "      <th>1</th>\n",
       "      <td>0.305263</td>\n",
       "      <td>95</td>\n",
       "      <td>29</td>\n",
       "    </tr>\n",
       "    <tr>\n",
       "      <th>2</th>\n",
       "      <td>0.320261</td>\n",
       "      <td>153</td>\n",
       "      <td>49</td>\n",
       "    </tr>\n",
       "    <tr>\n",
       "      <th>3</th>\n",
       "      <td>0.162791</td>\n",
       "      <td>387</td>\n",
       "      <td>63</td>\n",
       "    </tr>\n",
       "  </tbody>\n",
       "</table>\n",
       "</div>"
      ],
      "text/plain": [
       "                         top          \n",
       "                        mean count sum\n",
       "artist_typeEncoded                    \n",
       "1                   0.305263    95  29\n",
       "2                   0.320261   153  49\n",
       "3                   0.162791   387  63"
      ]
     },
     "execution_count": 35,
     "metadata": {},
     "output_type": "execute_result"
    }
   ],
   "source": [
    "#Check how the top=1 are splitted along the artist_typeEncoded feature\n",
    "artists_encoded[['artist_typeEncoded', 'top']].groupby(['artist_typeEncoded'], as_index=False).agg(['mean', 'count', 'sum'])"
   ]
  },
  {
   "cell_type": "code",
   "execution_count": 36,
   "metadata": {},
   "outputs": [
    {
     "data": {
      "text/html": [
       "<div>\n",
       "<style scoped>\n",
       "    .dataframe tbody tr th:only-of-type {\n",
       "        vertical-align: middle;\n",
       "    }\n",
       "\n",
       "    .dataframe tbody tr th {\n",
       "        vertical-align: top;\n",
       "    }\n",
       "\n",
       "    .dataframe thead tr th {\n",
       "        text-align: left;\n",
       "    }\n",
       "\n",
       "    .dataframe thead tr:last-of-type th {\n",
       "        text-align: right;\n",
       "    }\n",
       "</style>\n",
       "<table border=\"1\" class=\"dataframe\">\n",
       "  <thead>\n",
       "    <tr>\n",
       "      <th></th>\n",
       "      <th colspan=\"3\" halign=\"left\">top</th>\n",
       "    </tr>\n",
       "    <tr>\n",
       "      <th></th>\n",
       "      <th>mean</th>\n",
       "      <th>count</th>\n",
       "      <th>sum</th>\n",
       "    </tr>\n",
       "    <tr>\n",
       "      <th>genreEncoded</th>\n",
       "      <th></th>\n",
       "      <th></th>\n",
       "      <th></th>\n",
       "    </tr>\n",
       "  </thead>\n",
       "  <tbody>\n",
       "    <tr>\n",
       "      <th>0</th>\n",
       "      <td>0.105263</td>\n",
       "      <td>19</td>\n",
       "      <td>2</td>\n",
       "    </tr>\n",
       "    <tr>\n",
       "      <th>1</th>\n",
       "      <td>0.070000</td>\n",
       "      <td>100</td>\n",
       "      <td>7</td>\n",
       "    </tr>\n",
       "    <tr>\n",
       "      <th>2</th>\n",
       "      <td>0.008850</td>\n",
       "      <td>113</td>\n",
       "      <td>1</td>\n",
       "    </tr>\n",
       "    <tr>\n",
       "      <th>3</th>\n",
       "      <td>0.319149</td>\n",
       "      <td>188</td>\n",
       "      <td>60</td>\n",
       "    </tr>\n",
       "    <tr>\n",
       "      <th>4</th>\n",
       "      <td>0.330233</td>\n",
       "      <td>215</td>\n",
       "      <td>71</td>\n",
       "    </tr>\n",
       "  </tbody>\n",
       "</table>\n",
       "</div>"
      ],
      "text/plain": [
       "                   top          \n",
       "                  mean count sum\n",
       "genreEncoded                    \n",
       "0             0.105263    19   2\n",
       "1             0.070000   100   7\n",
       "2             0.008850   113   1\n",
       "3             0.319149   188  60\n",
       "4             0.330233   215  71"
      ]
     },
     "execution_count": 36,
     "metadata": {},
     "output_type": "execute_result"
    }
   ],
   "source": [
    "#Check how the top=1 are splitted along the genreEncoded feature\n",
    "artists_encoded[['genreEncoded', 'top']].groupby(['genreEncoded'], as_index=False).agg(['mean', 'count', 'sum'])"
   ]
  },
  {
   "cell_type": "code",
   "execution_count": 38,
   "metadata": {},
   "outputs": [
    {
     "data": {
      "text/html": [
       "<div>\n",
       "<style scoped>\n",
       "    .dataframe tbody tr th:only-of-type {\n",
       "        vertical-align: middle;\n",
       "    }\n",
       "\n",
       "    .dataframe tbody tr th {\n",
       "        vertical-align: top;\n",
       "    }\n",
       "\n",
       "    .dataframe thead tr th {\n",
       "        text-align: left;\n",
       "    }\n",
       "\n",
       "    .dataframe thead tr:last-of-type th {\n",
       "        text-align: right;\n",
       "    }\n",
       "</style>\n",
       "<table border=\"1\" class=\"dataframe\">\n",
       "  <thead>\n",
       "    <tr>\n",
       "      <th></th>\n",
       "      <th colspan=\"3\" halign=\"left\">top</th>\n",
       "    </tr>\n",
       "    <tr>\n",
       "      <th></th>\n",
       "      <th>mean</th>\n",
       "      <th>count</th>\n",
       "      <th>sum</th>\n",
       "    </tr>\n",
       "    <tr>\n",
       "      <th>tempoEncoded</th>\n",
       "      <th></th>\n",
       "      <th></th>\n",
       "      <th></th>\n",
       "    </tr>\n",
       "  </thead>\n",
       "  <tbody>\n",
       "    <tr>\n",
       "      <th>0</th>\n",
       "      <td>0.226415</td>\n",
       "      <td>53</td>\n",
       "      <td>12</td>\n",
       "    </tr>\n",
       "    <tr>\n",
       "      <th>1</th>\n",
       "      <td>0.246154</td>\n",
       "      <td>65</td>\n",
       "      <td>16</td>\n",
       "    </tr>\n",
       "    <tr>\n",
       "      <th>2</th>\n",
       "      <td>0.218569</td>\n",
       "      <td>517</td>\n",
       "      <td>113</td>\n",
       "    </tr>\n",
       "  </tbody>\n",
       "</table>\n",
       "</div>"
      ],
      "text/plain": [
       "                   top           \n",
       "                  mean count  sum\n",
       "tempoEncoded                     \n",
       "0             0.226415    53   12\n",
       "1             0.246154    65   16\n",
       "2             0.218569   517  113"
      ]
     },
     "execution_count": 38,
     "metadata": {},
     "output_type": "execute_result"
    }
   ],
   "source": [
    "#Check how the top=1 are splitted along the tempoEncoded feature\n",
    "artists_encoded[['tempoEncoded', 'top']].groupby(['tempoEncoded'], as_index=False).agg(['mean', 'count', 'sum'])"
   ]
  },
  {
   "cell_type": "code",
   "execution_count": 39,
   "metadata": {},
   "outputs": [
    {
     "data": {
      "text/html": [
       "<div>\n",
       "<style scoped>\n",
       "    .dataframe tbody tr th:only-of-type {\n",
       "        vertical-align: middle;\n",
       "    }\n",
       "\n",
       "    .dataframe tbody tr th {\n",
       "        vertical-align: top;\n",
       "    }\n",
       "\n",
       "    .dataframe thead tr th {\n",
       "        text-align: left;\n",
       "    }\n",
       "\n",
       "    .dataframe thead tr:last-of-type th {\n",
       "        text-align: right;\n",
       "    }\n",
       "</style>\n",
       "<table border=\"1\" class=\"dataframe\">\n",
       "  <thead>\n",
       "    <tr>\n",
       "      <th></th>\n",
       "      <th colspan=\"3\" halign=\"left\">top</th>\n",
       "    </tr>\n",
       "    <tr>\n",
       "      <th></th>\n",
       "      <th>mean</th>\n",
       "      <th>count</th>\n",
       "      <th>sum</th>\n",
       "    </tr>\n",
       "    <tr>\n",
       "      <th>durationEncoded</th>\n",
       "      <th></th>\n",
       "      <th></th>\n",
       "      <th></th>\n",
       "    </tr>\n",
       "  </thead>\n",
       "  <tbody>\n",
       "    <tr>\n",
       "      <th>0.0</th>\n",
       "      <td>0.295775</td>\n",
       "      <td>71</td>\n",
       "      <td>21</td>\n",
       "    </tr>\n",
       "    <tr>\n",
       "      <th>1.0</th>\n",
       "      <td>0.333333</td>\n",
       "      <td>30</td>\n",
       "      <td>10</td>\n",
       "    </tr>\n",
       "    <tr>\n",
       "      <th>2.0</th>\n",
       "      <td>0.212963</td>\n",
       "      <td>108</td>\n",
       "      <td>23</td>\n",
       "    </tr>\n",
       "    <tr>\n",
       "      <th>3.0</th>\n",
       "      <td>0.202381</td>\n",
       "      <td>168</td>\n",
       "      <td>34</td>\n",
       "    </tr>\n",
       "    <tr>\n",
       "      <th>4.0</th>\n",
       "      <td>0.232143</td>\n",
       "      <td>112</td>\n",
       "      <td>26</td>\n",
       "    </tr>\n",
       "    <tr>\n",
       "      <th>5.0</th>\n",
       "      <td>0.145455</td>\n",
       "      <td>55</td>\n",
       "      <td>8</td>\n",
       "    </tr>\n",
       "    <tr>\n",
       "      <th>6.0</th>\n",
       "      <td>0.208791</td>\n",
       "      <td>91</td>\n",
       "      <td>19</td>\n",
       "    </tr>\n",
       "  </tbody>\n",
       "</table>\n",
       "</div>"
      ],
      "text/plain": [
       "                      top          \n",
       "                     mean count sum\n",
       "durationEncoded                    \n",
       "0.0              0.295775    71  21\n",
       "1.0              0.333333    30  10\n",
       "2.0              0.212963   108  23\n",
       "3.0              0.202381   168  34\n",
       "4.0              0.232143   112  26\n",
       "5.0              0.145455    55   8\n",
       "6.0              0.208791    91  19"
      ]
     },
     "execution_count": 39,
     "metadata": {},
     "output_type": "execute_result"
    }
   ],
   "source": [
    "#Check how the top=1 are splitted along the durationEncoded feature\n",
    "artists_encoded[['durationEncoded', 'top']].groupby(['durationEncoded'], as_index=False).agg(['mean', 'count', 'sum'])"
   ]
  },
  {
   "cell_type": "code",
   "execution_count": 41,
   "metadata": {},
   "outputs": [
    {
     "data": {
      "text/html": [
       "<div>\n",
       "<style scoped>\n",
       "    .dataframe tbody tr th:only-of-type {\n",
       "        vertical-align: middle;\n",
       "    }\n",
       "\n",
       "    .dataframe tbody tr th {\n",
       "        vertical-align: top;\n",
       "    }\n",
       "\n",
       "    .dataframe thead tr th {\n",
       "        text-align: left;\n",
       "    }\n",
       "\n",
       "    .dataframe thead tr:last-of-type th {\n",
       "        text-align: right;\n",
       "    }\n",
       "</style>\n",
       "<table border=\"1\" class=\"dataframe\">\n",
       "  <thead>\n",
       "    <tr>\n",
       "      <th></th>\n",
       "      <th colspan=\"3\" halign=\"left\">top</th>\n",
       "    </tr>\n",
       "    <tr>\n",
       "      <th></th>\n",
       "      <th>mean</th>\n",
       "      <th>count</th>\n",
       "      <th>sum</th>\n",
       "    </tr>\n",
       "    <tr>\n",
       "      <th>edadEncoded</th>\n",
       "      <th></th>\n",
       "      <th></th>\n",
       "      <th></th>\n",
       "    </tr>\n",
       "  </thead>\n",
       "  <tbody>\n",
       "    <tr>\n",
       "      <th>4.0</th>\n",
       "      <td>0.222047</td>\n",
       "      <td>635</td>\n",
       "      <td>141</td>\n",
       "    </tr>\n",
       "  </tbody>\n",
       "</table>\n",
       "</div>"
      ],
      "text/plain": [
       "                  top           \n",
       "                 mean count  sum\n",
       "edadEncoded                     \n",
       "4.0          0.222047   635  141"
      ]
     },
     "execution_count": 41,
     "metadata": {},
     "output_type": "execute_result"
    }
   ],
   "source": [
    "#Check how the top=1 are splitted along the edadEncoded feature\n",
    "artists_encoded[['edadEncoded', 'top']].groupby(['edadEncoded'], as_index=False).agg(['mean', 'count', 'sum'])"
   ]
  },
  {
   "cell_type": "markdown",
   "metadata": {},
   "source": [
    "## 6 Predict and Evaluation "
   ]
  },
  {
   "cell_type": "markdown",
   "metadata": {},
   "source": [
    "### 6.1 Training and Test Split "
   ]
  },
  {
   "cell_type": "code",
   "execution_count": 43,
   "metadata": {},
   "outputs": [],
   "source": [
    "x_train = artists_encoded.drop(['top'], axis=1).values    # X variable = store the data\n",
    "y_train = artists_encoded['top']  # y variable = store the classes/targets"
   ]
  },
  {
   "cell_type": "markdown",
   "metadata": {},
   "source": [
    "### 6.2 Apply the Decission Tree Classifier "
   ]
  },
  {
   "cell_type": "markdown",
   "metadata": {},
   "source": [
    "Before starting building the decission trees, we need to identify the depth that we will assign to the tree. To do this, we will take advantage of the \"KFold function\" that will help us create several subgroups with our input data to validate and assess trees with varying levels of depth. Then, we will choose the one with the best result."
   ]
  },
  {
   "cell_type": "code",
   "execution_count": 42,
   "metadata": {},
   "outputs": [
    {
     "name": "stdout",
     "output_type": "stream",
     "text": [
      " Max Depth  Average Accuracy\n",
      "         1          0.556101\n",
      "         2          0.556101\n",
      "         3          0.623710\n",
      "         4          0.617460\n",
      "         5          0.618973\n",
      "         6          0.607812\n",
      "         7          0.617312\n"
     ]
    }
   ],
   "source": [
    "# Desired number of \"folds\" that we will do\n",
    "cv = KFold(n_splits=10) \n",
    "accuracies = list()\n",
    "max_attributes = len(list(artists_encoded))\n",
    "depth_range = range(1, max_attributes + 1)\n",
    " \n",
    "# Test the depth\n",
    "for depth in depth_range:\n",
    "    fold_accuracy = []\n",
    "    tree_model = tree.DecisionTreeClassifier(criterion='entropy',\n",
    "                                             min_samples_split=20,\n",
    "                                             min_samples_leaf=5,\n",
    "                                             max_depth = depth,\n",
    "                                             class_weight={1:3.5})\n",
    "    for train_fold, valid_fold in cv.split(artists_encoded):\n",
    "        f_train = artists_encoded.loc[train_fold] \n",
    "        f_valid = artists_encoded.loc[valid_fold] \n",
    " \n",
    "        model = tree_model.fit(X = f_train.drop(['top'], axis=1), \n",
    "                               y = f_train[\"top\"]) \n",
    "        valid_acc = model.score(X = f_valid.drop(['top'], axis=1), \n",
    "                                y = f_valid[\"top\"]) # calculamos la precision con el segmento de validacion\n",
    "        fold_accuracy.append(valid_acc)\n",
    " \n",
    "    avg = sum(fold_accuracy)/len(fold_accuracy)\n",
    "    accuracies.append(avg)\n",
    "    \n",
    "# Show the results\n",
    "df_results = pd.DataFrame({\"Max Depth\": depth_range, \"Average Accuracy\": accuracies})\n",
    "df_results = df_results[[\"Max Depth\", \"Average Accuracy\"]]\n",
    "print(df_results.to_string(index=False))"
   ]
  },
  {
   "cell_type": "markdown",
   "metadata": {},
   "source": [
    "Comments => We can see that in 4 levels of splits we have the highest score, with almost 65%."
   ]
  },
  {
   "cell_type": "markdown",
   "metadata": {},
   "source": [
    "### 6.3 Decession Tree Visualization "
   ]
  },
  {
   "cell_type": "markdown",
   "metadata": {},
   "source": [
    "Now, we need to create and visualize our tree 4 levels deep.\n",
    "\n",
    "We assign the input data and the parameters that we previously configured with 4 levels of depth. Then, we will use the export_graphviz function to create a .dot extension file that we will then convert into a png graphic to visualize the tree."
   ]
  },
  {
   "cell_type": "code",
   "execution_count": 45,
   "metadata": {},
   "outputs": [
    {
     "data": {
      "text/plain": [
       "DecisionTreeClassifier(class_weight={1: 3.5}, criterion='entropy', max_depth=4,\n",
       "                       max_features=None, max_leaf_nodes=None,\n",
       "                       min_impurity_decrease=0.0, min_impurity_split=None,\n",
       "                       min_samples_leaf=5, min_samples_split=20,\n",
       "                       min_weight_fraction_leaf=0.0, presort=False,\n",
       "                       random_state=None, splitter='best')"
      ]
     },
     "execution_count": 45,
     "metadata": {},
     "output_type": "execute_result"
    }
   ],
   "source": [
    "# Build the decession tree with a depth of 4\n",
    "decision_tree = tree.DecisionTreeClassifier(criterion='entropy',\n",
    "                                            min_samples_split=20,\n",
    "                                            min_samples_leaf=5,\n",
    "                                            max_depth = 4,\n",
    "                                            class_weight={1:3.5})\n",
    "\n",
    "\n",
    "#Apply the Decession Tree Classifier\n",
    "decision_tree.fit(x_train, y_train)"
   ]
  },
  {
   "cell_type": "code",
   "execution_count": 65,
   "metadata": {},
   "outputs": [
    {
     "data": {
      "text/plain": [
       "1"
      ]
     },
     "execution_count": 65,
     "metadata": {},
     "output_type": "execute_result"
    }
   ],
   "source": [
    "# Export the model to a .dot\n",
    "from sklearn.tree import export_graphviz #method that allows export the decession tree results to a dot file\n",
    "from pydotplus import graph_from_dot_data #build the graph and export to PNG\n",
    "\n",
    "dot_data = export_graphviz(decision_tree,\n",
    "                              out_file= 'tree1.dot',\n",
    "                              max_depth = 7,\n",
    "                              impurity = True,\n",
    "                              feature_names = list(artists_encoded.drop(['top'], axis=1)),\n",
    "                              class_names = ['No', 'N1 Billboard'],\n",
    "                              rounded = True,\n",
    "                              filled= True )\n",
    "\n",
    "import os #manipulate data and directories structures (read and write files)\n",
    "os.system(\"dot -Tpng tree1.dot -o tree1.png\")"
   ]
  },
  {
   "cell_type": "code",
   "execution_count": 67,
   "metadata": {},
   "outputs": [
    {
     "data": {
      "image/png": "[encoded data removed]",
      "text/plain": [
       "<IPython.core.display.Image object>"
      ]
     },
     "execution_count": 67,
     "metadata": {},
     "output_type": "execute_result"
    }
   ],
   "source": [
    "#Visualize the decession tree\n",
    "\n",
    "from IPython.core.display import Image\n",
    "Image(\"arbol-decision-billboard.png\")"
   ]
  },
  {
   "cell_type": "code",
   "execution_count": 68,
   "metadata": {},
   "outputs": [
    {
     "name": "stdout",
     "output_type": "stream",
     "text": [
      "66.3\n"
     ]
    }
   ],
   "source": [
    "#check the precission of the decession tree\n",
    "accuracy = round(decision_tree.score(x_train, y_train) * 100, 2)\n",
    "print(accuracy)"
   ]
  },
  {
   "cell_type": "markdown",
   "metadata": {},
   "source": [
    "Comments => We got a value of 64.88%. We notice that almost all the final leaves of the tree have mixed samples, especially in the output to classify the top = 1, which is causing the reduction in the scor."
   ]
  },
  {
   "cell_type": "markdown",
   "metadata": {},
   "source": [
    "### 6.4 Predicting new values "
   ]
  },
  {
   "cell_type": "markdown",
   "metadata": {},
   "source": [
    "We are going to test our tree with 2 artists who entered billboard 100 in 2017: \"Camila Cabello\" who reached number 1 with the Havana song and \"Imagine Dragons\" with her song Believer that reached a 42nd position but did not reach the top."
   ]
  },
  {
   "cell_type": "code",
   "execution_count": 73,
   "metadata": {},
   "outputs": [
    {
     "name": "stdout",
     "output_type": "stream",
     "text": [
      "Prediccion: [1]\n"
     ]
    },
    {
     "ename": "TypeError",
     "evalue": "type numpy.ndarray doesn't define __round__ method",
     "output_type": "error",
     "traceback": [
      "\u001b[1;31m---------------------------------------------------------------------------\u001b[0m",
      "\u001b[1;31mTypeError\u001b[0m                                 Traceback (most recent call last)",
      "\u001b[1;32m<ipython-input-73-de9264b02913>\u001b[0m in \u001b[0;36m<module>\u001b[1;34m\u001b[0m\n\u001b[0;32m      6\u001b[0m \u001b[0mprint\u001b[0m\u001b[1;33m(\u001b[0m\u001b[1;34m\"Prediccion: \"\u001b[0m \u001b[1;33m+\u001b[0m \u001b[0mstr\u001b[0m\u001b[1;33m(\u001b[0m\u001b[0my_pred\u001b[0m\u001b[1;33m)\u001b[0m\u001b[1;33m)\u001b[0m\u001b[1;33m\u001b[0m\u001b[1;33m\u001b[0m\u001b[0m\n\u001b[0;32m      7\u001b[0m \u001b[0my_proba\u001b[0m \u001b[1;33m=\u001b[0m \u001b[0mdecision_tree\u001b[0m\u001b[1;33m.\u001b[0m\u001b[0mpredict_proba\u001b[0m\u001b[1;33m(\u001b[0m\u001b[0mx_test\u001b[0m\u001b[1;33m.\u001b[0m\u001b[0mdrop\u001b[0m\u001b[1;33m(\u001b[0m\u001b[1;33m[\u001b[0m\u001b[1;34m'top'\u001b[0m\u001b[1;33m]\u001b[0m\u001b[1;33m,\u001b[0m \u001b[0maxis\u001b[0m \u001b[1;33m=\u001b[0m \u001b[1;36m1\u001b[0m\u001b[1;33m)\u001b[0m\u001b[1;33m)\u001b[0m\u001b[1;33m\u001b[0m\u001b[1;33m\u001b[0m\u001b[0m\n\u001b[1;32m----> 8\u001b[1;33m \u001b[0mprint\u001b[0m\u001b[1;33m(\u001b[0m\u001b[1;34m\"Probabilidad de Acierto: \"\u001b[0m \u001b[1;33m+\u001b[0m \u001b[0mstr\u001b[0m\u001b[1;33m(\u001b[0m\u001b[0mround\u001b[0m\u001b[1;33m(\u001b[0m\u001b[0my_proba\u001b[0m\u001b[1;33m[\u001b[0m\u001b[1;36m0\u001b[0m\u001b[1;33m]\u001b[0m\u001b[1;33m[\u001b[0m\u001b[0my_pred\u001b[0m\u001b[1;33m]\u001b[0m\u001b[1;33m*\u001b[0m \u001b[1;36m100\u001b[0m\u001b[1;33m,\u001b[0m \u001b[1;36m2\u001b[0m\u001b[1;33m)\u001b[0m\u001b[1;33m)\u001b[0m\u001b[1;33m+\u001b[0m\u001b[1;34m\"%\"\u001b[0m\u001b[1;33m)\u001b[0m\u001b[1;33m\u001b[0m\u001b[1;33m\u001b[0m\u001b[0m\n\u001b[0m",
      "\u001b[1;31mTypeError\u001b[0m: type numpy.ndarray doesn't define __round__ method"
     ]
    }
   ],
   "source": [
    "#predict artist CAMILA CABELLO featuring YOUNG THUG\n",
    " \n",
    "x_test = pd.DataFrame(columns=('top','moodEncoded', 'tempoEncoded', 'genreEncoded','artist_typeEncoded','edadEncoded','durationEncoded'))\n",
    "x_test.loc[0] = (1,5,2,4,1,0,3)\n",
    "y_pred = decision_tree.predict(x_test.drop(['top'], axis = 1))\n",
    "print(\"Prediccion: \" + str(y_pred))\n",
    "y_proba = decision_tree.predict_proba(x_test.drop(['top'], axis = 1))\n",
    "print(\"Probabilidad de Acierto: \" + str(round(y_proba[0][y_pred]* 100, 2))+\"%\")"
   ]
  },
  {
   "cell_type": "markdown",
   "metadata": {},
   "source": [
    "Comments => The model has predicted that Camila Cabello will reach the top 1 of the most famous artists in the future, as we got a result of 1 in the prediction."
   ]
  },
  {
   "cell_type": "code",
   "execution_count": 72,
   "metadata": {
    "scrolled": true
   },
   "outputs": [
    {
     "name": "stdout",
     "output_type": "stream",
     "text": [
      "Prediccion: [0]\n"
     ]
    },
    {
     "ename": "TypeError",
     "evalue": "type numpy.ndarray doesn't define __round__ method",
     "output_type": "error",
     "traceback": [
      "\u001b[1;31m---------------------------------------------------------------------------\u001b[0m",
      "\u001b[1;31mTypeError\u001b[0m                                 Traceback (most recent call last)",
      "\u001b[1;32m<ipython-input-72-4a2e509dcf2f>\u001b[0m in \u001b[0;36m<module>\u001b[1;34m\u001b[0m\n\u001b[0;32m      7\u001b[0m \u001b[0mprint\u001b[0m\u001b[1;33m(\u001b[0m\u001b[1;34m\"Prediccion: \"\u001b[0m \u001b[1;33m+\u001b[0m \u001b[0mstr\u001b[0m\u001b[1;33m(\u001b[0m\u001b[0my_pred\u001b[0m\u001b[1;33m)\u001b[0m\u001b[1;33m)\u001b[0m\u001b[1;33m\u001b[0m\u001b[1;33m\u001b[0m\u001b[0m\n\u001b[0;32m      8\u001b[0m \u001b[0my_proba\u001b[0m \u001b[1;33m=\u001b[0m \u001b[0mdecision_tree\u001b[0m\u001b[1;33m.\u001b[0m\u001b[0mpredict_proba\u001b[0m\u001b[1;33m(\u001b[0m\u001b[0mx_test\u001b[0m\u001b[1;33m.\u001b[0m\u001b[0mdrop\u001b[0m\u001b[1;33m(\u001b[0m\u001b[1;33m[\u001b[0m\u001b[1;34m'top'\u001b[0m\u001b[1;33m]\u001b[0m\u001b[1;33m,\u001b[0m \u001b[0maxis\u001b[0m \u001b[1;33m=\u001b[0m \u001b[1;36m1\u001b[0m\u001b[1;33m)\u001b[0m\u001b[1;33m)\u001b[0m\u001b[1;33m\u001b[0m\u001b[1;33m\u001b[0m\u001b[0m\n\u001b[1;32m----> 9\u001b[1;33m \u001b[0mprint\u001b[0m\u001b[1;33m(\u001b[0m\u001b[1;34m\"Probabilidad de Acierto: \"\u001b[0m \u001b[1;33m+\u001b[0m \u001b[0mstr\u001b[0m\u001b[1;33m(\u001b[0m\u001b[0mround\u001b[0m\u001b[1;33m(\u001b[0m\u001b[0my_proba\u001b[0m\u001b[1;33m[\u001b[0m\u001b[1;36m0\u001b[0m\u001b[1;33m]\u001b[0m\u001b[1;33m[\u001b[0m\u001b[0my_pred\u001b[0m\u001b[1;33m]\u001b[0m\u001b[1;33m*\u001b[0m \u001b[1;36m100\u001b[0m\u001b[1;33m,\u001b[0m \u001b[1;36m2\u001b[0m\u001b[1;33m)\u001b[0m\u001b[1;33m)\u001b[0m\u001b[1;33m+\u001b[0m\u001b[1;34m\"%\"\u001b[0m\u001b[1;33m)\u001b[0m\u001b[1;33m\u001b[0m\u001b[1;33m\u001b[0m\u001b[0m\n\u001b[0m",
      "\u001b[1;31mTypeError\u001b[0m: type numpy.ndarray doesn't define __round__ method"
     ]
    }
   ],
   "source": [
    "#predict artist Imagine Dragons \n",
    " \n",
    "x_test = pd.DataFrame(columns=('top','moodEncoded', 'tempoEncoded', 'genreEncoded','artist_typeEncoded','edadEncoded','durationEncoded'))\n",
    "x_test.loc[0] = (0,4,2,1,3,2,3)\n",
    "y_pred = decision_tree.predict(x_test.drop(['top'], axis = 1))\n",
    "print(\"Prediccion: \" + str(y_pred))\n",
    "y_proba = decision_tree.predict_proba(x_test.drop(['top'], axis = 1))\n",
    "print(\"Probabilidad de Acierto: \" + str(round(y_proba[0][y_pred]* 100, 2))+\"%\")"
   ]
  },
  {
   "cell_type": "markdown",
   "metadata": {},
   "source": [
    "Comments => The model has predicted that Imagine Dragons will not reach the top 1 of the most famous artists in the future, as we got a result of 0 in the prediction."
   ]
  }
 ],
 "metadata": {
  "kernelspec": {
   "display_name": "Python 3",
   "language": "python",
   "name": "python3"
  },
  "language_info": {
   "codemirror_mode": {
    "name": "ipython",
    "version": 3
   },
   "file_extension": ".py",
   "mimetype": "text/x-python",
   "name": "python",
   "nbconvert_exporter": "python",
   "pygments_lexer": "ipython3",
   "version": "3.7.3"
  }
 },
 "nbformat": 4,
 "nbformat_minor": 2
}
