{
 "cells": [
  {
   "cell_type": "markdown",
   "metadata": {},
   "source": [
    "# New York Times - News Classification"
   ]
  },
  {
   "cell_type": "markdown",
   "metadata": {},
   "source": [
    "## 1 Introduction "
   ]
  },
  {
   "cell_type": "markdown",
   "metadata": {},
   "source": [
    "In this document we will check the performance of the classifier Naive Bayes and Support Vector Machine (SVM) to categorize news according to their title into twenty-eight standard topics. In this problem we will deal with every New York Times front page story from 1996 to 2006, coded according to the Policy Agendas (http://www.policyagendas.org). This collection of data has been compiled by Amber E. Boydstun."
   ]
  },
  {
   "cell_type": "markdown",
   "metadata": {},
   "source": [
    "<center><img src=\"files/The_New_York_Times_logo.png\"></center>"
   ]
  },
  {
   "cell_type": "markdown",
   "metadata": {},
   "source": [
    "Specifically, we are interested in classifying news from The New York Times in the following macro-topics according to its title:\n",
    "\n",
    "<table border=\"1\">\n",
    "<tr>\n",
    "<td>\n",
    "1 \n",
    "<td>\n",
    "Macroeconomics\n",
    "<tr>\n",
    "<td>\n",
    "2 \n",
    "<td>\n",
    "Civil Rights, Minority Issues, and Civil Liberties \n",
    "<tr>\n",
    "<td>\n",
    "3\n",
    "<td>\n",
    "Health\n",
    "<tr>\n",
    "<td>\n",
    "4 \n",
    "<td>Agriculture\n",
    "<tr>\n",
    "<td>\n",
    "5 \n",
    "<td>Labor, Employment, and Immigration\n",
    "<tr>\n",
    "<td>\n",
    "6 \n",
    "<td> Education\n",
    "<tr>\n",
    "<td>\n",
    "7\n",
    "<td>Environment\n",
    "<tr>\n",
    "<td>\n",
    "8\n",
    "<td>Energy\n",
    "<tr>\n",
    "<td>\n",
    "10 \n",
    "<td>Transportation\n",
    "<tr>\n",
    "<td>\n",
    "12 \n",
    "<td>Law, Crime, and Family Issues\n",
    "<tr>\n",
    "<td>\n",
    "13 \n",
    "<td>Social Welfare\n",
    "<tr>\n",
    "<td>\n",
    "14 \n",
    "<td>Community Development and Housing Issues\n",
    "<tr>\n",
    "<td>\n",
    "15 \n",
    "<td>Banking, Finance, and Domestic Commerce\n",
    "<tr>\n",
    "<td>\n",
    "16 \n",
    "<td>Defense\n",
    "<tr>\n",
    "<td>\n",
    "17 \n",
    "<td>Space, Science, Technology and Communications\n",
    "<tr>\n",
    "<td>\n",
    "18 \n",
    "<td>Foreign Trade\n",
    "<tr>\n",
    "<td>\n",
    "19 \n",
    "<td>International Affairs and Foreign Aid\n",
    "<tr>\n",
    "<td>\n",
    "20 \n",
    "<td>Government Operations\n",
    "<tr>\n",
    "<td>\n",
    "21 \n",
    "<td>Public Lands and Water Management\n",
    "<tr>\n",
    "<td>\n",
    "24 \n",
    "<td>State and Local Government Administration\n",
    "<tr>\n",
    "<td>\n",
    "26 \n",
    "<td>Weather and Natural Disasters\n",
    "<tr>\n",
    "<td>\n",
    "27 \n",
    "<td>Fires\n",
    "<tr>\n",
    "<td>\n",
    "28 \n",
    "<td>Arts and Entertainment\n",
    "<tr>\n",
    "<td>\n",
    "29 \n",
    "<td>Sports and Recreation\n",
    "<tr>\n",
    "<td>\n",
    "30 \n",
    "<td>Death Notices\n",
    "<tr>\n",
    "<td>\n",
    "31 \n",
    "<td>Churches and Religion\n",
    "<tr>\n",
    "<td>\n",
    "99 \n",
    "<td>Other, Miscellaneous, and Human Interest"
   ]
  },
  {
   "cell_type": "markdown",
   "metadata": {},
   "source": [
    "In this analysis, we will use Generative models (Naive Bayes) and Discriminative models (Support Vector Machines). Furthermore, we will perfom our analysis using the Scikit-learn library in Python. "
   ]
  },
  {
   "cell_type": "markdown",
   "metadata": {},
   "source": [
    "## 2 Import the necessary libraries "
   ]
  },
  {
   "cell_type": "code",
   "execution_count": 1,
   "metadata": {},
   "outputs": [],
   "source": [
    "import pandas as pd  #data management and data analysis\n",
    "import seaborn as sn # data visualization\n",
    "import matplotlib.pyplot as plt # data visualization\n",
    "import sklearn #machine learning library\n",
    "\n",
    "from sklearn import svm # support vector machine\n",
    "from sklearn.svm import SVC #support vector classifier\n",
    "from sklearn.naive_bayes import BernoulliNB\n",
    "from sklearn.feature_extraction.text import CountVectorizer\n",
    "from sklearn.metrics import confusion_matrix, classification_report #sklearn metrics\n",
    "from sklearn.preprocessing import StandardScaler, LabelEncoder\n",
    "from sklearn.model_selection import train_test_split\n",
    "\n",
    "#open a new window and display the graphics in that way\n",
    "%matplotlib inline "
   ]
  },
  {
   "cell_type": "markdown",
   "metadata": {},
   "source": [
    "## 3 Explore the data "
   ]
  },
  {
   "cell_type": "markdown",
   "metadata": {},
   "source": [
    "In this document we will classify news from The New York Times Newspapper, using the dataset called: Boydstun_NYT_FrontPage_Dataset_1996-2006_0.csv\n",
    "\n",
    "In the Files folder there are more details about this dataset."
   ]
  },
  {
   "cell_type": "code",
   "execution_count": 2,
   "metadata": {},
   "outputs": [
    {
     "data": {
      "text/html": [
       "<div>\n",
       "<style scoped>\n",
       "    .dataframe tbody tr th:only-of-type {\n",
       "        vertical-align: middle;\n",
       "    }\n",
       "\n",
       "    .dataframe tbody tr th {\n",
       "        vertical-align: top;\n",
       "    }\n",
       "\n",
       "    .dataframe thead th {\n",
       "        text-align: right;\n",
       "    }\n",
       "</style>\n",
       "<table border=\"1\" class=\"dataframe\">\n",
       "  <thead>\n",
       "    <tr style=\"text-align: right;\">\n",
       "      <th></th>\n",
       "      <th>Article_ID</th>\n",
       "      <th>Date</th>\n",
       "      <th>Article_Sequence</th>\n",
       "      <th>Title</th>\n",
       "      <th>Summary</th>\n",
       "      <th>Topic_6digit</th>\n",
       "      <th>Topic_4digit</th>\n",
       "      <th>Topic_2digit</th>\n",
       "      <th>War on Terror</th>\n",
       "      <th>Katrina</th>\n",
       "      <th>Israel/Palestine</th>\n",
       "      <th>Immigration</th>\n",
       "      <th>Presidential Elections</th>\n",
       "      <th>Clinton Impeachment</th>\n",
       "      <th>Enron</th>\n",
       "      <th>Darfur</th>\n",
       "      <th>Race/Ethnicity</th>\n",
       "      <th>Schiavo</th>\n",
       "    </tr>\n",
       "  </thead>\n",
       "  <tbody>\n",
       "    <tr>\n",
       "      <th>0</th>\n",
       "      <td>1</td>\n",
       "      <td>1/1/1996</td>\n",
       "      <td>a</td>\n",
       "      <td>Nation's Smaller Jails Struggle To Cope With S...</td>\n",
       "      <td>Jails overwhelmed with hardened criminals</td>\n",
       "      <td>120500</td>\n",
       "      <td>1205</td>\n",
       "      <td>12</td>\n",
       "      <td>0</td>\n",
       "      <td>0</td>\n",
       "      <td>0</td>\n",
       "      <td>0</td>\n",
       "      <td>0</td>\n",
       "      <td>0</td>\n",
       "      <td>0</td>\n",
       "      <td>0</td>\n",
       "      <td>0</td>\n",
       "      <td>0</td>\n",
       "    </tr>\n",
       "    <tr>\n",
       "      <th>1</th>\n",
       "      <td>2</td>\n",
       "      <td>1/1/1996</td>\n",
       "      <td>b</td>\n",
       "      <td>Dancing (and Kissing) In the New Year</td>\n",
       "      <td>new years activities</td>\n",
       "      <td>280000</td>\n",
       "      <td>2800</td>\n",
       "      <td>28</td>\n",
       "      <td>0</td>\n",
       "      <td>0</td>\n",
       "      <td>0</td>\n",
       "      <td>0</td>\n",
       "      <td>0</td>\n",
       "      <td>0</td>\n",
       "      <td>0</td>\n",
       "      <td>0</td>\n",
       "      <td>0</td>\n",
       "      <td>0</td>\n",
       "    </tr>\n",
       "    <tr>\n",
       "      <th>2</th>\n",
       "      <td>3</td>\n",
       "      <td>1/1/1996</td>\n",
       "      <td>c</td>\n",
       "      <td>Forbes's Silver Bullet for the Nation's Malaise</td>\n",
       "      <td>Steve Forbes running for President</td>\n",
       "      <td>201201</td>\n",
       "      <td>2012</td>\n",
       "      <td>20</td>\n",
       "      <td>0</td>\n",
       "      <td>0</td>\n",
       "      <td>0</td>\n",
       "      <td>0</td>\n",
       "      <td>1</td>\n",
       "      <td>0</td>\n",
       "      <td>0</td>\n",
       "      <td>0</td>\n",
       "      <td>0</td>\n",
       "      <td>0</td>\n",
       "    </tr>\n",
       "    <tr>\n",
       "      <th>3</th>\n",
       "      <td>4</td>\n",
       "      <td>1/1/1996</td>\n",
       "      <td>d</td>\n",
       "      <td>Up at Last, Bridge to Bosnia Is Swaying Gatewa...</td>\n",
       "      <td>U.S. military constructs bridge to help their ...</td>\n",
       "      <td>160200</td>\n",
       "      <td>1602</td>\n",
       "      <td>16</td>\n",
       "      <td>0</td>\n",
       "      <td>0</td>\n",
       "      <td>0</td>\n",
       "      <td>0</td>\n",
       "      <td>0</td>\n",
       "      <td>0</td>\n",
       "      <td>0</td>\n",
       "      <td>0</td>\n",
       "      <td>0</td>\n",
       "      <td>0</td>\n",
       "    </tr>\n",
       "    <tr>\n",
       "      <th>4</th>\n",
       "      <td>5</td>\n",
       "      <td>1/1/1996</td>\n",
       "      <td>e</td>\n",
       "      <td>2 SIDES IN SENATE DISAGREE ON PLAN TO END FURL...</td>\n",
       "      <td>Democrats and Republicans can't agree on plan ...</td>\n",
       "      <td>201206</td>\n",
       "      <td>2012</td>\n",
       "      <td>20</td>\n",
       "      <td>0</td>\n",
       "      <td>0</td>\n",
       "      <td>0</td>\n",
       "      <td>0</td>\n",
       "      <td>0</td>\n",
       "      <td>0</td>\n",
       "      <td>0</td>\n",
       "      <td>0</td>\n",
       "      <td>0</td>\n",
       "      <td>0</td>\n",
       "    </tr>\n",
       "  </tbody>\n",
       "</table>\n",
       "</div>"
      ],
      "text/plain": [
       "   Article_ID      Date Article_Sequence  \\\n",
       "0           1  1/1/1996                a   \n",
       "1           2  1/1/1996                b   \n",
       "2           3  1/1/1996                c   \n",
       "3           4  1/1/1996                d   \n",
       "4           5  1/1/1996                e   \n",
       "\n",
       "                                               Title  \\\n",
       "0  Nation's Smaller Jails Struggle To Cope With S...   \n",
       "1             Dancing (and Kissing) In the New Year    \n",
       "2   Forbes's Silver Bullet for the Nation's Malaise    \n",
       "3  Up at Last, Bridge to Bosnia Is Swaying Gatewa...   \n",
       "4  2 SIDES IN SENATE DISAGREE ON PLAN TO END FURL...   \n",
       "\n",
       "                                             Summary  Topic_6digit  \\\n",
       "0          Jails overwhelmed with hardened criminals        120500   \n",
       "1                               new years activities        280000   \n",
       "2                 Steve Forbes running for President        201201   \n",
       "3  U.S. military constructs bridge to help their ...        160200   \n",
       "4  Democrats and Republicans can't agree on plan ...        201206   \n",
       "\n",
       "   Topic_4digit  Topic_2digit  War on Terror  Katrina  Israel/Palestine  \\\n",
       "0          1205            12              0        0                 0   \n",
       "1          2800            28              0        0                 0   \n",
       "2          2012            20              0        0                 0   \n",
       "3          1602            16              0        0                 0   \n",
       "4          2012            20              0        0                 0   \n",
       "\n",
       "   Immigration  Presidential Elections  Clinton Impeachment  Enron  Darfur  \\\n",
       "0            0                       0                    0      0       0   \n",
       "1            0                       0                    0      0       0   \n",
       "2            0                       1                    0      0       0   \n",
       "3            0                       0                    0      0       0   \n",
       "4            0                       0                    0      0       0   \n",
       "\n",
       "   Race/Ethnicity  Schiavo  \n",
       "0               0        0  \n",
       "1               0        0  \n",
       "2               0        0  \n",
       "3               0        0  \n",
       "4               0        0  "
      ]
     },
     "execution_count": 2,
     "metadata": {},
     "output_type": "execute_result"
    }
   ],
   "source": [
    "#Load the data\n",
    "dataNYT=pd.read_csv('Boydstun_NYT_FrontPage_Dataset_1996-2006_0.csv')\n",
    "dataNYT.head()"
   ]
  },
  {
   "cell_type": "markdown",
   "metadata": {},
   "source": [
    "Check the type of information that is part of the data frame:"
   ]
  },
  {
   "cell_type": "code",
   "execution_count": 3,
   "metadata": {},
   "outputs": [
    {
     "name": "stdout",
     "output_type": "stream",
     "text": [
      "<class 'pandas.core.frame.DataFrame'>\n",
      "RangeIndex: 31034 entries, 0 to 31033\n",
      "Data columns (total 18 columns):\n",
      "Article_ID                31034 non-null int64\n",
      "Date                      31034 non-null object\n",
      "Article_Sequence          31034 non-null object\n",
      "Title                     31034 non-null object\n",
      "Summary                   31034 non-null object\n",
      "Topic_6digit              31034 non-null int64\n",
      "Topic_4digit              31034 non-null int64\n",
      "Topic_2digit              31034 non-null int64\n",
      "War on Terror             31034 non-null int64\n",
      "Katrina                   31034 non-null int64\n",
      "Israel/Palestine          31034 non-null int64\n",
      "Immigration               31034 non-null int64\n",
      "Presidential Elections    31034 non-null int64\n",
      "Clinton Impeachment       31034 non-null int64\n",
      "Enron                     31034 non-null int64\n",
      "Darfur                    31034 non-null int64\n",
      "Race/Ethnicity            31034 non-null int64\n",
      "Schiavo                   31034 non-null int64\n",
      "dtypes: int64(14), object(4)\n",
      "memory usage: 4.3+ MB\n"
     ]
    }
   ],
   "source": [
    "dataNYT.info()"
   ]
  },
  {
   "cell_type": "markdown",
   "metadata": {},
   "source": [
    "Check if there are null values in the data frame:"
   ]
  },
  {
   "cell_type": "code",
   "execution_count": 4,
   "metadata": {},
   "outputs": [
    {
     "data": {
      "text/plain": [
       "Article_ID                0\n",
       "Date                      0\n",
       "Article_Sequence          0\n",
       "Title                     0\n",
       "Summary                   0\n",
       "Topic_6digit              0\n",
       "Topic_4digit              0\n",
       "Topic_2digit              0\n",
       "War on Terror             0\n",
       "Katrina                   0\n",
       "Israel/Palestine          0\n",
       "Immigration               0\n",
       "Presidential Elections    0\n",
       "Clinton Impeachment       0\n",
       "Enron                     0\n",
       "Darfur                    0\n",
       "Race/Ethnicity            0\n",
       "Schiavo                   0\n",
       "dtype: int64"
      ]
     },
     "execution_count": 4,
     "metadata": {},
     "output_type": "execute_result"
    }
   ],
   "source": [
    "dataNYT.isnull().sum()"
   ]
  },
  {
   "cell_type": "markdown",
   "metadata": {},
   "source": [
    "Comments: It looks like there is not any null value in the data frame."
   ]
  },
  {
   "cell_type": "markdown",
   "metadata": {},
   "source": [
    "## 4 Data Processing "
   ]
  },
  {
   "cell_type": "markdown",
   "metadata": {},
   "source": [
    "### 4.1 Response and Feature Variables "
   ]
  },
  {
   "cell_type": "markdown",
   "metadata": {},
   "source": [
    "Firstly, separate the dataset into response variables (data to analyze) and feature variables (the target to achieve)."
   ]
  },
  {
   "cell_type": "code",
   "execution_count": 5,
   "metadata": {},
   "outputs": [],
   "source": [
    "import numpy as np\n",
    "\n",
    "X = dataNYT['Title']\n",
    "y = dataNYT['Topic_2digit']\n",
    "\n",
    "# X variable = store the data\n",
    "# y variable = store the classes/targets"
   ]
  },
  {
   "cell_type": "code",
   "execution_count": 6,
   "metadata": {},
   "outputs": [
    {
     "data": {
      "text/plain": [
       "(\"Nation's Smaller Jails Struggle To Cope With Surge in Inmates \", 12)"
      ]
     },
     "execution_count": 6,
     "metadata": {},
     "output_type": "execute_result"
    }
   ],
   "source": [
    "#let's check an example of the data split\n",
    "X[0],y[0]"
   ]
  },
  {
   "cell_type": "markdown",
   "metadata": {},
   "source": [
    "### 4.2 Training and Test Split"
   ]
  },
  {
   "cell_type": "markdown",
   "metadata": {},
   "source": [
    "Let us split the data set in two set:\n",
    "\n",
    "* We will train the classifier with news up to 2004 (1/1/2004).\n",
    "* We will test the performance of the classifier in news from 2004 and 2006."
   ]
  },
  {
   "cell_type": "code",
   "execution_count": 7,
   "metadata": {},
   "outputs": [
    {
     "name": "stdout",
     "output_type": "stream",
     "text": [
      "Check the split sizes, train, test and total amount of data:\n",
      "(23584,) (7450,) (31034,)\n",
      "Display the labels:\n",
      "[ 1  2  3  4  5  6  7  8 10 12 13 14 15 16 17 18 19 20 21 24 26 27 28 29\n",
      " 30 31 99]\n"
     ]
    }
   ],
   "source": [
    "import numpy as np\n",
    "\n",
    "split = pd.to_datetime(pd.Series(dataNYT['Date']))<pd.datetime(2004, 1, 1) #data to train\n",
    "\n",
    "#train and test split for X variable (data to analyze)\n",
    "X_train = X[split]\n",
    "X_test = X[np.logical_not(split)]\n",
    "\n",
    "#train and test split for y variable (target)\n",
    "y_train = y[split]\n",
    "y_test = y[np.logical_not(split)]\n",
    "\n",
    "print ('Check the split sizes, train, test and total amount of data:')\n",
    "print (X_train.shape, X_test.shape, X.shape)\n",
    "print ('Display the labels:')\n",
    "print (np.unique(y)) #remove duplicated values"
   ]
  },
  {
   "cell_type": "markdown",
   "metadata": {},
   "source": [
    "### 4.3 Data Tokenization"
   ]
  },
  {
   "cell_type": "markdown",
   "metadata": {},
   "source": [
    "Text data requires special preparation before you can start using it for predictive modeling. The text must be analyzed to eliminate words. Then, the words must be coded as integers or floating point values for use as input to a machine learning algorithm, called vectorization."
   ]
  },
  {
   "cell_type": "code",
   "execution_count": 8,
   "metadata": {},
   "outputs": [
    {
     "name": "stdout",
     "output_type": "stream",
     "text": [
      "Number of tokens: 8950\n",
      "\n",
      "Extract of tokens:\n",
      "['boeing', 'boiling', 'boils', 'bold', 'bolster', 'bolsters', 'bolt', 'bolts', 'bomb', 'bombay', 'bombed', 'bomber', 'bombers', 'bombing', 'bombings', 'bombs', 'bonanza', 'bond', 'bondage', 'bonds', 'bone', 'bones', 'bonn', 'bono', 'bonus', 'bonuses', 'book', 'books', 'booksellers', 'bookstore', 'boom', 'boomers', 'booming', 'booms', 'boost', 'boot', 'bora', 'border', 'borders', 'born', 'borough', 'boroughs', 'borrow', 'borrowing', 'bosnia', 'bosnian', 'bosnians', 'boss', 'bosses', 'boston', 'botched', 'bottle', 'bought', 'bounce', 'bound', 'bounty', 'bout', 'bow', 'bowing', 'bowl', 'bows', 'box', 'boxes', 'boxing', 'boy', 'boycott', 'boys', 'brace', 'braced', 'braces', 'bracket', 'bradley', 'brain', 'brains', 'branches', 'brand', 'brash', 'brave', 'bravery', 'braves', 'brawl', 'brawley', 'brazil', 'brazilian', 'breach', 'breaches', 'bread', 'break', 'breakdown', 'breaking', 'breaks', 'breakthrough', 'breakup', 'breast', 'breather', 'breed', 'brewers', 'brewing', 'bribery', 'bricks']\n"
     ]
    }
   ],
   "source": [
    "from sklearn.feature_extraction.text import CountVectorizer #convert text to word count vectors\n",
    "\n",
    "# We use the count number of instances considering that a word has a minimum support of two documents\n",
    "vectorizer = CountVectorizer(min_df=2, \n",
    "\n",
    "# stop words such as 'and', 'the', 'of' are removed                             \n",
    "stop_words='english', \n",
    "strip_accents='unicode')\n",
    "\n",
    "#Fit and convert data\n",
    "X_train = vectorizer.fit_transform(X_train)\n",
    "X_test = vectorizer.transform(X_test)\n",
    "\n",
    "print (\"Number of tokens: \" + str(len(vectorizer.get_feature_names())) +\"\\n\")\n",
    "print (\"Extract of tokens:\")\n",
    "print (vectorizer.get_feature_names()[1000:1100])"
   ]
  },
  {
   "cell_type": "markdown",
   "metadata": {},
   "source": [
    "## 5 Prediction and Evaluation "
   ]
  },
  {
   "cell_type": "markdown",
   "metadata": {},
   "source": []
  },
  {
   "cell_type": "markdown",
   "metadata": {},
   "source": [
    "### 5.1 The Naive Bayes Classifier  "
   ]
  },
  {
   "cell_type": "markdown",
   "metadata": {},
   "source": [
    "Let's review the performance of our model using one of the most common class of the Naive Bayes Classifier => BernoulliNB"
   ]
  },
  {
   "cell_type": "code",
   "execution_count": 9,
   "metadata": {},
   "outputs": [
    {
     "name": "stdout",
     "output_type": "stream",
     "text": [
      "classification accuracy: 0.4348993288590604\n",
      "Classification Report:\n",
      "              precision    recall  f1-score   support\n",
      "\n",
      "           1       0.32      0.64      0.43        56\n",
      "           2       0.01      0.67      0.01         3\n",
      "           3       0.51      0.65      0.57       343\n",
      "           4       0.00      0.00      0.00         0\n",
      "           5       0.01      1.00      0.01         1\n",
      "           6       0.13      0.96      0.23        27\n",
      "           7       0.00      0.00      0.00         0\n",
      "           8       0.00      0.00      0.00         0\n",
      "          10       0.00      0.00      0.00         0\n",
      "          12       0.46      0.43      0.44       466\n",
      "          13       0.00      0.00      0.00         0\n",
      "          14       0.00      0.00      0.00         0\n",
      "          15       0.09      0.54      0.16        57\n",
      "          16       0.54      0.57      0.55      1259\n",
      "          17       0.03      1.00      0.06         4\n",
      "          18       0.00      0.00      0.00         0\n",
      "          19       0.81      0.34      0.48      3544\n",
      "          20       0.75      0.45      0.57      1555\n",
      "          21       0.00      0.00      0.00         0\n",
      "          24       0.00      0.00      0.00         0\n",
      "          26       0.00      0.00      0.00         0\n",
      "          27       0.00      0.00      0.00         0\n",
      "          28       0.00      0.00      0.00         1\n",
      "          29       0.35      0.60      0.44       134\n",
      "          30       0.00      0.00      0.00         0\n",
      "          31       0.00      0.00      0.00         0\n",
      "          99       0.00      0.00      0.00         0\n",
      "\n",
      "    accuracy                           0.43      7450\n",
      "   macro avg       0.15      0.29      0.15      7450\n",
      "weighted avg       0.70      0.43      0.51      7450\n",
      "\n"
     ]
    },
    {
     "name": "stderr",
     "output_type": "stream",
     "text": [
      "C:\\ProgramData\\Anaconda3\\lib\\site-packages\\sklearn\\metrics\\classification.py:1439: UndefinedMetricWarning: Recall and F-score are ill-defined and being set to 0.0 in labels with no true samples.\n",
      "  'recall', 'true', average, warn_for)\n"
     ]
    },
    {
     "data": {
      "image/png": "[encoded data removed]",
      "text/plain": [
       "<Figure size 648x648 with 2 Axes>"
      ]
     },
     "metadata": {
      "needs_background": "light"
     },
     "output_type": "display_data"
    }
   ],
   "source": [
    "%matplotlib inline\n",
    "\n",
    "#Fit a Bernoulli Naive Bayes\n",
    "from sklearn.naive_bayes import BernoulliNB\n",
    "nb = BernoulliNB()  #set up the class\n",
    "nb.fit(X_train,y_train) #perform the fit\n",
    "\n",
    "pred_nb = nb.predict(X_test)\n",
    "from sklearn import metrics\n",
    "import matplotlib.pyplot as plt\n",
    "def plot_confusion_matrix(y_pred, y):\n",
    "    plt.imshow(metrics.confusion_matrix(y, y_pred), interpolation='nearest',cmap='gray')\n",
    "    plt.colorbar()\n",
    "    plt.ylabel('true value')\n",
    "    plt.xlabel('predicted value')\n",
    "    fig = plt.gcf()\n",
    "    fig.set_size_inches(9,9)    \n",
    "    \n",
    "print (\"classification accuracy:\", metrics.accuracy_score(pred_nb, y_test))\n",
    "plot_confusion_matrix(pred_nb, y_test)\n",
    "print (\"Classification Report:\")\n",
    "print (metrics.classification_report(pred_nb,np.array(y_test)))"
   ]
  },
  {
   "cell_type": "code",
   "execution_count": 10,
   "metadata": {},
   "outputs": [],
   "source": [
    "#Save data for future use\n",
    "import pickle\n",
    "ofname = open('NYT_data.pkl', 'wb')\n",
    "s = pickle.dump([X_train,y_train,X_test,y_test],ofname)\n",
    "ofname.close()"
   ]
  },
  {
   "cell_type": "code",
   "execution_count": 11,
   "metadata": {},
   "outputs": [
    {
     "name": "stdout",
     "output_type": "stream",
     "text": [
      "Code: 1 Terms : ['cut', 'bush', 'economy', 'budget', 'tax']\n",
      "Code: 2 Terms : ['race', 'gay', 'new', 'court', 'abortion']\n",
      "Code: 3 Terms : ['care', 'medicare', 'drug', 'health', 'new']\n",
      "Code: 4 Terms : ['farm', 'safety', 'new', 'farmers', 'food']\n",
      "Code: 5 Terms : ['workers', 'strike', 'union', 'immigrants', 'new']\n",
      "Code: 6 Terms : ['students', 'city', 'new', 'school', 'schools']\n",
      "Code: 7 Terms : ['rules', 'warming', 'air', 'new', 'pollution']\n",
      "Code: 8 Terms : ['blackout', 'california', 'power', 'energy', 'oil']\n",
      "Code: 10 Terms : ['new', 'security', '800', 'flight', 'crash']\n",
      "Code: 12 Terms : ['drug', 'case', 'death', 'new', 'police']\n",
      "Code: 13 Terms : ['plan', 'security', 'new', 'social', 'welfare']\n",
      "Code: 14 Terms : ['city', 'homeless', 'york', 'rent', 'new']\n",
      "Code: 15 Terms : ['new', 'billion', 'deal', 'enron', 'microsoft']\n",
      "Code: 16 Terms : ['bush', 'challenged', 'war', 'iraq', 'nation']\n",
      "Code: 17 Terms : ['space', 'nasa', 'loss', 'new', 'shuttle']\n",
      "Code: 18 Terms : ['business', 'bush', 'clinton', 'china', 'trade']\n",
      "Code: 19 Terms : ['mideast', 'war', 'israel', 'new', 'china']\n",
      "Code: 20 Terms : ['2000', 'clinton', 'bush', 'president', 'campaign']\n",
      "Code: 21 Terms : ['park', 'plan', 'zero', 'ground', 'new']\n",
      "Code: 24 Terms : ['mayor', 'giuliani', 'city', 'budget', 'new']\n",
      "Code: 26 Terms : ['blizzard', 'new', 'overview', 'hurricane', 'storm']\n",
      "Code: 27 Terms : ['blaze', 'ferry', 'killed', 'crash', 'fires']\n",
      "Code: 28 Terms : ['arts', 'tv', 'broadway', 'art', 'new']\n",
      "Code: 29 Terms : ['world', 'playoffs', 'series', 'yankees', 'baseball']\n",
      "Code: 30 Terms : ['87', '79', 'crash', 'dead', 'dies']\n",
      "Code: 31 Terms : ['faith', 'bishop', 'new', 'church', 'pope']\n",
      "Code: 99 Terms : ['editors', 'today', 'readers', 'note', 'special']\n"
     ]
    }
   ],
   "source": [
    "#What are the top N most predictive features per class?\n",
    "N = 5\n",
    "voc = vectorizer.get_feature_names()\n",
    "for i, label in enumerate(np.unique(y)):\n",
    "    topN = np.argsort(nb.coef_[i])[-N:]\n",
    "    print ('Code: '+ str(label) + ' Terms : '+ str([voc[i] for i in topN]))"
   ]
  },
  {
   "cell_type": "markdown",
   "metadata": {},
   "source": [
    "Comments: The prediction result is not very high, so we can add more features to get a better prediction result.\n",
    "\n",
    "Let us check what would happen if we enrich the data set with the summary of the article."
   ]
  },
  {
   "cell_type": "code",
   "execution_count": 12,
   "metadata": {},
   "outputs": [],
   "source": [
    "#Add more features to the model to get a better prediction result\n",
    "X = dataNYT['Title']+dataNYT['Summary']\n",
    "X_train = X[split]\n",
    "X_test = X[np.logical_not(split)]\n",
    "y = dataNYT['Topic_2digit']\n",
    "y_train = y[split]\n",
    "y_test = y[np.logical_not(split)]"
   ]
  },
  {
   "cell_type": "code",
   "execution_count": 13,
   "metadata": {},
   "outputs": [
    {
     "name": "stdout",
     "output_type": "stream",
     "text": [
      "\n",
      "\n",
      "Number of tokens: 11354\n",
      "\n",
      "Extract of tokes:\n",
      "['banned', 'banner', 'banning', 'bans', 'bansenate', 'banus', 'baptist', 'baptists', 'bar', 'barak', 'barbie', 'bare', 'barely', 'bares', 'bargain', 'bargaining', 'bargains', 'barnes', 'barney', 'baron', 'barons', 'barrage', 'barred', 'barrel', 'barren', 'barrier', 'barriers', 'barring', 'bars', 'barter', 'base', 'baseball', 'based', 'basement', 'bases', 'basespentagon', 'bashing', 'basic', 'basis', 'baskeball', 'basketball', 'basks', 'basra', 'bastion', 'bat', 'bath', 'batter', 'battered', 'battering', 'batters', 'battery', 'battle', 'battledemocrats', 'battlefield', 'battleground', 'battles', 'battleus', 'battling', 'bay', 'bayer', 'bbc', 'beach', 'beaches', 'bear', 'bearing', 'bears', 'beat', 'beaten', 'beating', 'beats', 'beautiful', 'beauty', 'beckons', 'bed', 'bedevil', 'bedeviled', 'beef', 'beetle', 'began', 'begin', 'beginning', 'begins', 'beginsphoto', 'begun', 'behavior', 'behemoth', 'beijing', 'beijingus', 'beirut', 'belarus', 'belated', 'belfast', 'belgrade', 'beliefs', 'belies', 'believe', 'believed', 'believes', 'belittles', 'bell']\n"
     ]
    }
   ],
   "source": [
    "# Let us tokenize the data\n",
    "from sklearn.feature_extraction.text import CountVectorizer\n",
    "\n",
    "vectorizer = CountVectorizer(min_df=2, \n",
    "\n",
    "# stop words such as 'and', 'the', 'of' are removed                                  \n",
    "stop_words='english', \n",
    "strip_accents='unicode')\n",
    "\n",
    "#Fit and convert data\n",
    "X_train = vectorizer.fit_transform(X_train)\n",
    "X_test = vectorizer.transform(X_test)\n",
    "\n",
    "print (\"\\n\")\n",
    "print (\"Number of tokens: \" + str(len(vectorizer.get_feature_names())) +\"\\n\")\n",
    "print (\"Extract of tokes:\")\n",
    "print( vectorizer.get_feature_names()[1000:1100])"
   ]
  },
  {
   "cell_type": "code",
   "execution_count": 15,
   "metadata": {},
   "outputs": [
    {
     "name": "stdout",
     "output_type": "stream",
     "text": [
      "classification accuracy: 0.5155704697986577\n",
      "Classification Report:\n",
      "              precision    recall  f1-score   support\n",
      "\n",
      "           1       0.45      0.61      0.52        83\n",
      "           2       0.06      0.94      0.11        18\n",
      "           3       0.69      0.59      0.63       514\n",
      "           4       0.00      0.00      0.00         0\n",
      "           5       0.03      0.67      0.06         9\n",
      "           6       0.46      0.87      0.61       106\n",
      "           7       0.00      0.00      0.00         0\n",
      "           8       0.00      0.00      0.00         0\n",
      "          10       0.01      0.50      0.02         2\n",
      "          12       0.61      0.41      0.49       651\n",
      "          13       0.00      0.00      0.00         0\n",
      "          14       0.00      0.00      0.00         0\n",
      "          15       0.23      0.55      0.32       136\n",
      "          16       0.70      0.64      0.67      1466\n",
      "          17       0.06      1.00      0.11         8\n",
      "          18       0.00      0.00      0.00         0\n",
      "          19       0.77      0.41      0.53      2816\n",
      "          20       0.85      0.55      0.67      1436\n",
      "          21       0.00      0.00      0.00         0\n",
      "          24       0.07      0.85      0.13        13\n",
      "          26       0.00      0.00      0.00         0\n",
      "          27       0.00      0.00      0.00         0\n",
      "          28       0.02      0.57      0.04         7\n",
      "          29       0.54      0.67      0.60       185\n",
      "          30       0.00      0.00      0.00         0\n",
      "          31       0.00      0.00      0.00         0\n",
      "          99       0.00      0.00      0.00         0\n",
      "\n",
      "    accuracy                           0.52      7450\n",
      "   macro avg       0.21      0.36      0.20      7450\n",
      "weighted avg       0.72      0.52      0.58      7450\n",
      "\n"
     ]
    },
    {
     "name": "stderr",
     "output_type": "stream",
     "text": [
      "C:\\ProgramData\\Anaconda3\\lib\\site-packages\\sklearn\\metrics\\classification.py:1439: UndefinedMetricWarning: Recall and F-score are ill-defined and being set to 0.0 in labels with no true samples.\n",
      "  'recall', 'true', average, warn_for)\n"
     ]
    },
    {
     "data": {
      "image/png": "[encoded data removed]",
      "text/plain": [
       "<Figure size 648x648 with 2 Axes>"
      ]
     },
     "metadata": {
      "needs_background": "light"
     },
     "output_type": "display_data"
    }
   ],
   "source": [
    "%matplotlib inline\n",
    "\n",
    "#Fit a Bernoulli Naive Bayes\n",
    "from sklearn.naive_bayes import BernoulliNB\n",
    "nb = BernoulliNB()  #set up the class\n",
    "nb.fit(X_train,y_train) #perform the fit\n",
    "\n",
    "pred_nb = nb.predict(X_test)\n",
    "from sklearn import metrics\n",
    "import matplotlib.pyplot as plt\n",
    "def plot_confusion_matrix(y_pred, y):\n",
    "    plt.imshow(metrics.confusion_matrix(y, y_pred), interpolation='nearest')\n",
    "    plt.colorbar()\n",
    "    plt.ylabel('true value')\n",
    "    plt.xlabel('predicted value')\n",
    "    fig = plt.gcf()\n",
    "    fig.set_size_inches(9,9)    \n",
    "    \n",
    "print (\"classification accuracy:\", metrics.accuracy_score(pred_nb, y_test))\n",
    "plot_confusion_matrix(pred_nb, y_test)\n",
    "print (\"Classification Report:\")\n",
    "print (metrics.classification_report(pred_nb,np.array(y_test)))"
   ]
  },
  {
   "cell_type": "code",
   "execution_count": 16,
   "metadata": {},
   "outputs": [],
   "source": [
    "#Save data for future use.\n",
    "import pickle\n",
    "ofname = open('NYT_context_data.pkl', 'wb')\n",
    "s = pickle.dump([X_train,y_train,X_test,y_test],ofname)\n",
    "ofname.close()"
   ]
  },
  {
   "cell_type": "code",
   "execution_count": 17,
   "metadata": {},
   "outputs": [
    {
     "name": "stdout",
     "output_type": "stream",
     "text": [
      "Code: 1 Terms : ['cut', 'economy', 'market', 'budget', 'tax']\n",
      "Code: 2 Terms : ['gay', 'race', 'new', 'court', 'abortion']\n",
      "Code: 3 Terms : ['medicare', 'care', 'drug', 'new', 'health']\n",
      "Code: 4 Terms : ['disease', 'farm', 'new', 'farmers', 'food']\n",
      "Code: 5 Terms : ['new', 'workers', 'strike', 'union', 'immigrants']\n",
      "Code: 6 Terms : ['education', 'students', 'new', 'schools', 'school']\n",
      "Code: 7 Terms : ['water', 'pollution', 'new', 'global', 'warming']\n",
      "Code: 8 Terms : ['gas', 'prices', 'energy', 'oil', 'power']\n",
      "Code: 10 Terms : ['investigation', '800', 'twa', 'flight', 'crash']\n",
      "Code: 12 Terms : ['death', 'scandal', 'abuse', 'new', 'police']\n",
      "Code: 13 Terms : ['security', 'clinton', 'social', 'new', 'welfare']\n",
      "Code: 14 Terms : ['housing', 'york', 'rent', 'nyc', 'new']\n",
      "Code: 15 Terms : ['new', 'merger', 'scandal', 'antitrust', 'microsoft']\n",
      "Code: 16 Terms : ['bush', 'challenged', 'war', 'nation', 'iraq']\n",
      "Code: 17 Terms : ['loss', 'columbia', 'space', 'shuttle', 'new']\n",
      "Code: 18 Terms : ['deal', 'sanctions', 'clinton', 'china', 'trade']\n",
      "Code: 19 Terms : ['war', 'peace', 'new', 'china', 'israel']\n",
      "Code: 20 Terms : ['2000', 'bush', 'president', 'clinton', 'campaign']\n",
      "Code: 21 Terms : ['memorial', 'zero', 'ground', 'indian', 'new']\n",
      "Code: 24 Terms : ['city', 'budget', 'governor', 'mayor', 'new']\n",
      "Code: 26 Terms : ['hurricane', 'york', 'storm', 'new', 'weather']\n",
      "Code: 27 Terms : ['fires', 'killed', 'accident', 'crash', 'new']\n",
      "Code: 28 Terms : ['york', 'day', 'museum', 'art', 'new']\n",
      "Code: 29 Terms : ['world', 'playoffs', 'series', 'yankees', 'baseball']\n",
      "Code: 30 Terms : ['plane', 'death', 'crash', 'dead', 'dies']\n",
      "Code: 31 Terms : ['catholic', 'religious', 'new', 'pope', 'church']\n",
      "Code: 99 Terms : ['park', 'editors', 'new', 'special', 'note']\n"
     ]
    }
   ],
   "source": [
    "#What are the top N most predictive features per class?\n",
    "N = 5\n",
    "voc = vectorizer.get_feature_names()\n",
    "for i, label in enumerate(np.unique(y)):\n",
    "    topN = np.argsort(nb.coef_[i])[-N:]\n",
    "    print ('Code: '+ str(label) + ' Terms : '+ str([voc[i] for i in topN]))"
   ]
  },
  {
   "cell_type": "markdown",
   "metadata": {},
   "source": [
    "Comments: Observe that adding the small summary improves the recognition rate by  10% .\n",
    "\n",
    "As a side note, Naive Bayes with these models creates a linear decision boundary. For this reason, sometimes NB is called a linear classifier"
   ]
  },
  {
   "cell_type": "markdown",
   "metadata": {},
   "source": [
    "### 5.2 Support Vector Machine (SVM) "
   ]
  },
  {
   "cell_type": "code",
   "execution_count": 3,
   "metadata": {},
   "outputs": [
    {
     "name": "stdout",
     "output_type": "stream",
     "text": [
      "Loading ok.\n"
     ]
    }
   ],
   "source": [
    "#Recover NTY data\n",
    "import pickle\n",
    "fname = open('NYT_context_data.pkl','rb')\n",
    "data = pickle.load(fname)\n",
    "X_train = data[0]\n",
    "y_train = data[1]\n",
    "X_test = data[2]\n",
    "y_test = data[3]\n",
    "print ('Loading ok.')"
   ]
  },
  {
   "cell_type": "code",
   "execution_count": 6,
   "metadata": {},
   "outputs": [
    {
     "name": "stdout",
     "output_type": "stream",
     "text": [
      "classification accuracy: 0.6136912751677852\n",
      "Classification Report:\n",
      "              precision    recall  f1-score   support\n",
      "\n",
      "           1       0.66      0.49      0.56       154\n",
      "           2       0.47      0.60      0.53       219\n",
      "           3       0.70      0.67      0.69       459\n",
      "           4       0.33      0.53      0.41        19\n",
      "           5       0.62      0.58      0.60       195\n",
      "           6       0.78      0.71      0.74       216\n",
      "           7       0.66      0.47      0.55        79\n",
      "           8       0.65      0.60      0.63        78\n",
      "          10       0.59      0.57      0.58       129\n",
      "          12       0.52      0.45      0.48       507\n",
      "          13       0.47      0.61      0.53        33\n",
      "          14       0.32      0.50      0.39        92\n",
      "          15       0.36      0.42      0.38       280\n",
      "          16       0.68      0.65      0.67      1388\n",
      "          17       0.49      0.50      0.50       137\n",
      "          18       0.44      0.42      0.43        26\n",
      "          19       0.63      0.66      0.65      1424\n",
      "          20       0.73      0.70      0.72       981\n",
      "          21       0.33      0.43      0.37        54\n",
      "          24       0.74      0.63      0.68       177\n",
      "          26       0.53      0.62      0.57       160\n",
      "          27       0.32      0.38      0.35        24\n",
      "          28       0.49      0.45      0.47       189\n",
      "          29       0.74      0.62      0.67       276\n",
      "          30       0.50      0.78      0.61        41\n",
      "          31       0.48      0.59      0.53        86\n",
      "          99       0.08      0.15      0.11        27\n",
      "\n",
      "    accuracy                           0.61      7450\n",
      "   macro avg       0.53      0.55      0.53      7450\n",
      "weighted avg       0.62      0.61      0.62      7450\n",
      "\n"
     ]
    },
    {
     "data": {
      "image/png": "[encoded data removed]",
      "text/plain": [
       "<Figure size 648x648 with 2 Axes>"
      ]
     },
     "metadata": {
      "needs_background": "light"
     },
     "output_type": "display_data"
    }
   ],
   "source": [
    "#fit the support vector machine\n",
    "from sklearn import svm\n",
    "clf = svm.LinearSVC()\n",
    "clf.fit(X_train,y_train)\n",
    "\n",
    "#visualize the results\n",
    "pred_svm = clf.predict(X_test)\n",
    "from sklearn import metrics\n",
    "import numpy as np\n",
    "import pandas as pd\n",
    "import matplotlib.pyplot as plt\n",
    "def plot_confusion_matrix(y_pred, y):\n",
    "    plt.imshow(metrics.confusion_matrix(y, y_pred), interpolation='nearest')\n",
    "    plt.colorbar()\n",
    "    plt.ylabel('true value')\n",
    "    plt.xlabel('predicted value')\n",
    "    fig = plt.gcf()\n",
    "    fig.set_size_inches(9,9)    \n",
    "    \n",
    "print (\"classification accuracy:\", metrics.accuracy_score(pred_svm, y_test))\n",
    "plot_confusion_matrix(pred_svm, y_test)\n",
    "print (\"Classification Report:\")\n",
    "print (metrics.classification_report(pred_svm,np.array(y_test)))"
   ]
  },
  {
   "cell_type": "markdown",
   "metadata": {},
   "source": [
    "Comments: It is not possible to check the most important words. Maybe we can perform a cross-validation grid search to check the most important words."
   ]
  },
  {
   "cell_type": "code",
   "execution_count": 4,
   "metadata": {},
   "outputs": [
    {
     "name": "stderr",
     "output_type": "stream",
     "text": [
      "C:\\ProgramData\\Anaconda3\\lib\\site-packages\\sklearn\\model_selection\\_split.py:1978: FutureWarning: The default value of cv will change from 3 to 5 in version 0.22. Specify it explicitly to silence this warning.\n",
      "  warnings.warn(CV_WARNING, FutureWarning)\n",
      "C:\\ProgramData\\Anaconda3\\lib\\site-packages\\sklearn\\svm\\base.py:929: ConvergenceWarning: Liblinear failed to converge, increase the number of iterations.\n",
      "  \"the number of iterations.\", ConvergenceWarning)\n"
     ]
    },
    {
     "data": {
      "text/plain": [
       "GridSearchCV(cv='warn', error_score='raise-deprecating',\n",
       "             estimator=LinearSVC(C=1.0, class_weight=None, dual=True,\n",
       "                                 fit_intercept=True, intercept_scaling=1,\n",
       "                                 loss='squared_hinge', max_iter=1000,\n",
       "                                 multi_class='ovr', penalty='l2',\n",
       "                                 random_state=None, tol=0.0001, verbose=0),\n",
       "             iid='warn', n_jobs=None,\n",
       "             param_grid={'C': [0.01, 0.05, 0.1, 0.5, 1, 10]},\n",
       "             pre_dispatch='2*n_jobs', refit=True, return_train_score=False,\n",
       "             scoring=None, verbose=0)"
      ]
     },
     "execution_count": 4,
     "metadata": {},
     "output_type": "execute_result"
    }
   ],
   "source": [
    "#Check a cross-validation grid search\n",
    "from sklearn import svm\n",
    "from sklearn import model_selection\n",
    "parameters = {'C':[0.01, 0.05, 0.1, 0.5, 1, 10]}\n",
    "svc= svm.LinearSVC()\n",
    "clf = model_selection.GridSearchCV(svc, parameters)\n",
    "clf.fit(X_train,y_train)"
   ]
  },
  {
   "cell_type": "code",
   "execution_count": 7,
   "metadata": {},
   "outputs": [
    {
     "name": "stdout",
     "output_type": "stream",
     "text": [
      "The best parameterization is {'C': 0.05}\n",
      "The achieved score is 0.6530274762550882\n",
      "Checking the rest of the scores \n",
      "\n",
      "[0.62309193 0.65302748 0.65145862 0.62962178 0.61736771 0.58459125]\n"
     ]
    },
    {
     "data": {
      "text/plain": [
       "[Text(0, 0, '0.01'),\n",
       " Text(0, 0, '0.05'),\n",
       " Text(0, 0, '0.1'),\n",
       " Text(0, 0, '0.5'),\n",
       " Text(0, 0, '1'),\n",
       " Text(0, 0, '10')]"
      ]
     },
     "execution_count": 7,
     "metadata": {},
     "output_type": "execute_result"
    },
    {
     "data": {
      "image/png": "[encoded data removed]",
      "text/plain": [
       "<Figure size 432x288 with 1 Axes>"
      ]
     },
     "metadata": {
      "needs_background": "light"
     },
     "output_type": "display_data"
    }
   ],
   "source": [
    "print ('The best parameterization is ' + str(clf.best_params_))\n",
    "print ('The achieved score is ' + str(clf.best_score_))\n",
    "\n",
    "print ('Checking the rest of the scores \\n')\n",
    "import matplotlib.pyplot as plt\n",
    "print(clf.cv_results_['mean_test_score'])\n",
    "\n",
    "plt.plot(clf.cv_results_['mean_test_score'],'r',marker='o')\n",
    "ax = plt.gca()\n",
    "ax.set_xticklabels([0.01, 0.05, 0.1, 0.5, 1, 10])    "
   ]
  },
  {
   "cell_type": "code",
   "execution_count": 9,
   "metadata": {},
   "outputs": [
    {
     "name": "stdout",
     "output_type": "stream",
     "text": [
      "classification accuracy: 0.6595973154362416\n",
      "Classification Report:\n",
      "              precision    recall  f1-score   support\n",
      "\n",
      "           1       0.71      0.56      0.62       144\n",
      "           2       0.46      0.68      0.55       189\n",
      "           3       0.77      0.72      0.74       473\n",
      "           4       0.37      0.79      0.50        14\n",
      "           5       0.65      0.70      0.67       171\n",
      "           6       0.84      0.76      0.80       220\n",
      "           7       0.73      0.55      0.63        74\n",
      "           8       0.75      0.69      0.72        78\n",
      "          10       0.57      0.57      0.57       125\n",
      "          12       0.57      0.48      0.52       518\n",
      "          13       0.51      0.71      0.59        31\n",
      "          14       0.37      0.68      0.48        79\n",
      "          15       0.40      0.53      0.46       253\n",
      "          16       0.74      0.68      0.71      1454\n",
      "          17       0.57      0.61      0.59       131\n",
      "          18       0.32      0.50      0.39        16\n",
      "          19       0.68      0.66      0.67      1539\n",
      "          20       0.79      0.74      0.77      1001\n",
      "          21       0.30      0.47      0.37        45\n",
      "          24       0.76      0.66      0.71       173\n",
      "          26       0.53      0.64      0.58       159\n",
      "          27       0.29      0.67      0.40        12\n",
      "          28       0.55      0.56      0.55       171\n",
      "          29       0.79      0.69      0.74       266\n",
      "          30       0.50      0.84      0.63        38\n",
      "          31       0.54      0.83      0.65        69\n",
      "          99       0.04      0.29      0.07         7\n",
      "\n",
      "    accuracy                           0.66      7450\n",
      "   macro avg       0.56      0.64      0.58      7450\n",
      "weighted avg       0.68      0.66      0.67      7450\n",
      "\n"
     ]
    },
    {
     "data": {
      "image/png": "[encoded data removed]",
      "text/plain": [
       "<Figure size 648x648 with 2 Axes>"
      ]
     },
     "metadata": {
      "needs_background": "light"
     },
     "output_type": "display_data"
    }
   ],
   "source": [
    "pred_svm = clf.predict(X_test)\n",
    "from sklearn import metrics\n",
    "import numpy as np\n",
    "import matplotlib.pyplot as plt\n",
    "def plot_confusion_matrix(y_pred, y):\n",
    "    plt.imshow(metrics.confusion_matrix(y, y_pred), interpolation='nearest')\n",
    "    plt.colorbar()\n",
    "    plt.ylabel('true value')\n",
    "    plt.xlabel('predicted value')\n",
    "    fig = plt.gcf()\n",
    "    fig.set_size_inches(9,9)    \n",
    "    \n",
    "print (\"classification accuracy:\", metrics.accuracy_score(pred_svm, y_test))\n",
    "plot_confusion_matrix(pred_svm, y_test)\n",
    "print (\"Classification Report:\")\n",
    "print (metrics.classification_report(pred_svm,np.array(y_test)))"
   ]
  },
  {
   "cell_type": "markdown",
   "metadata": {},
   "source": [
    "Comments: We can see that the score has improved after aplying the cross validation."
   ]
  }
 ],
 "metadata": {
  "kernelspec": {
   "display_name": "Python 3",
   "language": "python",
   "name": "python3"
  },
  "language_info": {
   "codemirror_mode": {
    "name": "ipython",
    "version": 3
   },
   "file_extension": ".py",
   "mimetype": "text/x-python",
   "name": "python",
   "nbconvert_exporter": "python",
   "pygments_lexer": "ipython3",
   "version": "3.7.3"
  }
 },
 "nbformat": 4,
 "nbformat_minor": 2
}
